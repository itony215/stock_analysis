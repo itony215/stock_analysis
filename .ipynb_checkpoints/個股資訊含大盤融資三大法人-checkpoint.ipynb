{
 "cells": [
  {
   "cell_type": "code",
   "execution_count": 1,
   "metadata": {},
   "outputs": [],
   "source": [
    "import pandas as pd\n",
    "import numpy as np\n",
    "import requests\n",
    "import datetime\n",
    "import time\n",
    "from io import StringIO\n",
    "from bs4 import BeautifulSoup\n",
    "from tqdm import tqdm\n",
    "import pickle\n",
    "import os\n",
    "import json\n",
    "from datetime import date"
   ]
  },
  {
   "cell_type": "code",
   "execution_count": 22,
   "metadata": {},
   "outputs": [],
   "source": [
    "# def stock_list():\n",
    "#     res = requests.get('https://dts.twse.com.tw/opendata/t187ap03_L.csv')\n",
    "#     res.encoding='utf-8'\n",
    "#     df = pd.read_csv(StringIO(res.text), index_col=['公司代號'])\n",
    "#     res = requests.get('https://dts.twse.com.tw/opendata/t187ap03_O.csv')\n",
    "#     res.encoding = 'utf-8'\n",
    "#     df = df.append(pd.read_csv(StringIO(res.text),index_col=['公司代號']))\n",
    "#     return df\n",
    "\n",
    "# slist = stock_list()"
   ]
  },
  {
   "cell_type": "code",
   "execution_count": 2,
   "metadata": {},
   "outputs": [],
   "source": [
    "from datetime import datetime\n",
    "def date_convert(date_to_convert):\n",
    "     return datetime.strptime(date_to_convert, '%Y/%m/%d').strftime('%Y/%m/%d')\n",
    "\n",
    "#combine['date'] = combine['date'].apply(date_convert)"
   ]
  },
  {
   "cell_type": "markdown",
   "metadata": {},
   "source": [
    "## 1. 創 stock list"
   ]
  },
  {
   "cell_type": "code",
   "execution_count": 3,
   "metadata": {},
   "outputs": [
    {
     "ename": "NameError",
     "evalue": "name 'today' is not defined",
     "output_type": "error",
     "traceback": [
      "\u001b[1;31m---------------------------------------------------------------------------\u001b[0m",
      "\u001b[1;31mNameError\u001b[0m                                 Traceback (most recent call last)",
      "\u001b[1;32m<ipython-input-3-2b85b2db1e16>\u001b[0m in \u001b[0;36m<module>\u001b[1;34m\u001b[0m\n\u001b[1;32m----> 1\u001b[1;33m \u001b[0mdatestr\u001b[0m \u001b[1;33m=\u001b[0m \u001b[0mtoday\u001b[0m\u001b[1;33m.\u001b[0m\u001b[0mstrftime\u001b[0m\u001b[1;33m(\u001b[0m\u001b[1;34m\"%Y%m%d\"\u001b[0m\u001b[1;33m)\u001b[0m\u001b[1;33m\u001b[0m\u001b[1;33m\u001b[0m\u001b[0m\n\u001b[0m\u001b[0;32m      2\u001b[0m \u001b[0mprint\u001b[0m\u001b[1;33m(\u001b[0m\u001b[0mdatestr\u001b[0m\u001b[1;33m)\u001b[0m\u001b[1;33m\u001b[0m\u001b[1;33m\u001b[0m\u001b[0m\n\u001b[0;32m      3\u001b[0m \u001b[1;31m# 上市\u001b[0m\u001b[1;33m\u001b[0m\u001b[1;33m\u001b[0m\u001b[1;33m\u001b[0m\u001b[0m\n\u001b[0;32m      4\u001b[0m \u001b[0mr\u001b[0m \u001b[1;33m=\u001b[0m \u001b[0mrequests\u001b[0m\u001b[1;33m.\u001b[0m\u001b[0mpost\u001b[0m\u001b[1;33m(\u001b[0m\u001b[1;34m'https://www.twse.com.tw/exchangeReport/MI_INDEX?response=csv&type=ALL'\u001b[0m\u001b[1;33m)\u001b[0m\u001b[1;33m\u001b[0m\u001b[1;33m\u001b[0m\u001b[0m\n\u001b[0;32m      5\u001b[0m \u001b[0mdf\u001b[0m \u001b[1;33m=\u001b[0m \u001b[0mpd\u001b[0m\u001b[1;33m.\u001b[0m\u001b[0mread_csv\u001b[0m\u001b[1;33m(\u001b[0m\u001b[0mStringIO\u001b[0m\u001b[1;33m(\u001b[0m\u001b[0mr\u001b[0m\u001b[1;33m.\u001b[0m\u001b[0mtext\u001b[0m\u001b[1;33m.\u001b[0m\u001b[0mreplace\u001b[0m\u001b[1;33m(\u001b[0m\u001b[1;34m\"=\"\u001b[0m\u001b[1;33m,\u001b[0m \u001b[1;34m\"\"\u001b[0m\u001b[1;33m)\u001b[0m\u001b[1;33m)\u001b[0m\u001b[1;33m,\u001b[0m \u001b[0mheader\u001b[0m\u001b[1;33m=\u001b[0m\u001b[1;33m[\u001b[0m\u001b[1;34m\"證券代號\"\u001b[0m \u001b[1;32min\u001b[0m \u001b[0ml\u001b[0m \u001b[1;32mfor\u001b[0m \u001b[0ml\u001b[0m \u001b[1;32min\u001b[0m \u001b[0mr\u001b[0m\u001b[1;33m.\u001b[0m\u001b[0mtext\u001b[0m\u001b[1;33m.\u001b[0m\u001b[0msplit\u001b[0m\u001b[1;33m(\u001b[0m\u001b[1;34m\"\\n\"\u001b[0m\u001b[1;33m)\u001b[0m\u001b[1;33m]\u001b[0m\u001b[1;33m.\u001b[0m\u001b[0mindex\u001b[0m\u001b[1;33m(\u001b[0m\u001b[1;32mTrue\u001b[0m\u001b[1;33m)\u001b[0m\u001b[1;33m-\u001b[0m\u001b[1;36m1\u001b[0m\u001b[1;33m,\u001b[0m \u001b[0mindex_col\u001b[0m\u001b[1;33m=\u001b[0m\u001b[1;33m[\u001b[0m\u001b[1;34m'證券代號'\u001b[0m\u001b[1;33m]\u001b[0m\u001b[1;33m)\u001b[0m\u001b[1;33m\u001b[0m\u001b[1;33m\u001b[0m\u001b[0m\n",
      "\u001b[1;31mNameError\u001b[0m: name 'today' is not defined"
     ]
    }
   ],
   "source": [
    "datestr = today.strftime(\"%Y%m%d\")\n",
    "print(datestr)\n",
    "# 上市\n",
    "r = requests.post('https://www.twse.com.tw/exchangeReport/MI_INDEX?response=csv&type=ALL')\n",
    "df = pd.read_csv(StringIO(r.text.replace(\"=\", \"\")), header=[\"證券代號\" in l for l in r.text.split(\"\\n\")].index(True)-1, index_col=['證券代號'])\n",
    "df=df[df.index.str.len() <5]\n",
    "df1 = df.iloc[:, 0:1]\n"
   ]
  },
  {
   "cell_type": "code",
   "execution_count": 4,
   "metadata": {},
   "outputs": [
    {
     "name": "stdout",
     "output_type": "stream",
     "text": [
      "20220802\n"
     ]
    },
    {
     "data": {
      "text/html": [
       "<div>\n",
       "<style scoped>\n",
       "    .dataframe tbody tr th:only-of-type {\n",
       "        vertical-align: middle;\n",
       "    }\n",
       "\n",
       "    .dataframe tbody tr th {\n",
       "        vertical-align: top;\n",
       "    }\n",
       "\n",
       "    .dataframe thead th {\n",
       "        text-align: right;\n",
       "    }\n",
       "</style>\n",
       "<table border=\"1\" class=\"dataframe\">\n",
       "  <thead>\n",
       "    <tr style=\"text-align: right;\">\n",
       "      <th></th>\n",
       "      <th>1</th>\n",
       "      <th>2</th>\n",
       "      <th>3</th>\n",
       "      <th>4</th>\n",
       "      <th>5</th>\n",
       "      <th>6</th>\n",
       "      <th>7</th>\n",
       "      <th>8</th>\n",
       "      <th>9</th>\n",
       "      <th>10</th>\n",
       "      <th>11</th>\n",
       "      <th>12</th>\n",
       "      <th>13</th>\n",
       "      <th>14</th>\n",
       "      <th>15</th>\n",
       "      <th>16</th>\n",
       "      <th>17</th>\n",
       "      <th>18</th>\n",
       "    </tr>\n",
       "    <tr>\n",
       "      <th>0</th>\n",
       "      <th></th>\n",
       "      <th></th>\n",
       "      <th></th>\n",
       "      <th></th>\n",
       "      <th></th>\n",
       "      <th></th>\n",
       "      <th></th>\n",
       "      <th></th>\n",
       "      <th></th>\n",
       "      <th></th>\n",
       "      <th></th>\n",
       "      <th></th>\n",
       "      <th></th>\n",
       "      <th></th>\n",
       "      <th></th>\n",
       "      <th></th>\n",
       "      <th></th>\n",
       "      <th></th>\n",
       "    </tr>\n",
       "  </thead>\n",
       "  <tbody>\n",
       "    <tr>\n",
       "      <th>1240</th>\n",
       "      <td>茂生農經</td>\n",
       "      <td>47.50</td>\n",
       "      <td>+0.65</td>\n",
       "      <td>46.95</td>\n",
       "      <td>47.50</td>\n",
       "      <td>46.95</td>\n",
       "      <td>47.25</td>\n",
       "      <td>82,855</td>\n",
       "      <td>3,915,261</td>\n",
       "      <td>77</td>\n",
       "      <td>47.45</td>\n",
       "      <td>1</td>\n",
       "      <td>47.50</td>\n",
       "      <td>14</td>\n",
       "      <td>36,760,185</td>\n",
       "      <td>47.50</td>\n",
       "      <td>52.20</td>\n",
       "      <td>42.75</td>\n",
       "    </tr>\n",
       "    <tr>\n",
       "      <th>1258</th>\n",
       "      <td>其祥-KY</td>\n",
       "      <td>24.70</td>\n",
       "      <td>+0.55</td>\n",
       "      <td>23.90</td>\n",
       "      <td>25.50</td>\n",
       "      <td>23.70</td>\n",
       "      <td>24.78</td>\n",
       "      <td>1,086,455</td>\n",
       "      <td>26,917,122</td>\n",
       "      <td>421</td>\n",
       "      <td>24.70</td>\n",
       "      <td>1</td>\n",
       "      <td>24.75</td>\n",
       "      <td>1</td>\n",
       "      <td>36,819,791</td>\n",
       "      <td>24.70</td>\n",
       "      <td>27.15</td>\n",
       "      <td>22.25</td>\n",
       "    </tr>\n",
       "    <tr>\n",
       "      <th>1259</th>\n",
       "      <td>安心</td>\n",
       "      <td>71.30</td>\n",
       "      <td>-0.10</td>\n",
       "      <td>71.40</td>\n",
       "      <td>71.40</td>\n",
       "      <td>71.30</td>\n",
       "      <td>71.32</td>\n",
       "      <td>7,342</td>\n",
       "      <td>523,653</td>\n",
       "      <td>17</td>\n",
       "      <td>71.20</td>\n",
       "      <td>2</td>\n",
       "      <td>71.30</td>\n",
       "      <td>1</td>\n",
       "      <td>32,389,500</td>\n",
       "      <td>71.30</td>\n",
       "      <td>78.40</td>\n",
       "      <td>64.20</td>\n",
       "    </tr>\n",
       "    <tr>\n",
       "      <th>1264</th>\n",
       "      <td>德麥</td>\n",
       "      <td>259.00</td>\n",
       "      <td>+1.50</td>\n",
       "      <td>259.00</td>\n",
       "      <td>259.00</td>\n",
       "      <td>259.00</td>\n",
       "      <td>259.60</td>\n",
       "      <td>2,953</td>\n",
       "      <td>766,591</td>\n",
       "      <td>112</td>\n",
       "      <td>258.00</td>\n",
       "      <td>1</td>\n",
       "      <td>259.50</td>\n",
       "      <td>1</td>\n",
       "      <td>37,064,367</td>\n",
       "      <td>259.00</td>\n",
       "      <td>284.50</td>\n",
       "      <td>233.50</td>\n",
       "    </tr>\n",
       "    <tr>\n",
       "      <th>1268</th>\n",
       "      <td>漢來美食</td>\n",
       "      <td>107.00</td>\n",
       "      <td>0.00</td>\n",
       "      <td>106.00</td>\n",
       "      <td>107.00</td>\n",
       "      <td>106.00</td>\n",
       "      <td>106.76</td>\n",
       "      <td>6,057</td>\n",
       "      <td>646,627</td>\n",
       "      <td>11</td>\n",
       "      <td>106.50</td>\n",
       "      <td>3</td>\n",
       "      <td>107.00</td>\n",
       "      <td>4</td>\n",
       "      <td>42,723,730</td>\n",
       "      <td>107.00</td>\n",
       "      <td>117.50</td>\n",
       "      <td>96.30</td>\n",
       "    </tr>\n",
       "    <tr>\n",
       "      <th>...</th>\n",
       "      <td>...</td>\n",
       "      <td>...</td>\n",
       "      <td>...</td>\n",
       "      <td>...</td>\n",
       "      <td>...</td>\n",
       "      <td>...</td>\n",
       "      <td>...</td>\n",
       "      <td>...</td>\n",
       "      <td>...</td>\n",
       "      <td>...</td>\n",
       "      <td>...</td>\n",
       "      <td>...</td>\n",
       "      <td>...</td>\n",
       "      <td>...</td>\n",
       "      <td>...</td>\n",
       "      <td>...</td>\n",
       "      <td>...</td>\n",
       "      <td>...</td>\n",
       "    </tr>\n",
       "    <tr>\n",
       "      <th>9949</th>\n",
       "      <td>琉園</td>\n",
       "      <td>19.90</td>\n",
       "      <td>+0.05</td>\n",
       "      <td>19.70</td>\n",
       "      <td>19.90</td>\n",
       "      <td>19.55</td>\n",
       "      <td>19.73</td>\n",
       "      <td>8,902</td>\n",
       "      <td>175,629</td>\n",
       "      <td>28</td>\n",
       "      <td>19.55</td>\n",
       "      <td>1</td>\n",
       "      <td>19.85</td>\n",
       "      <td>1</td>\n",
       "      <td>44,033,360</td>\n",
       "      <td>19.90</td>\n",
       "      <td>21.85</td>\n",
       "      <td>17.95</td>\n",
       "    </tr>\n",
       "    <tr>\n",
       "      <th>9950</th>\n",
       "      <td>萬國通</td>\n",
       "      <td>12.50</td>\n",
       "      <td>+0.50</td>\n",
       "      <td>11.80</td>\n",
       "      <td>12.50</td>\n",
       "      <td>11.80</td>\n",
       "      <td>12.46</td>\n",
       "      <td>19,000</td>\n",
       "      <td>236,800</td>\n",
       "      <td>6</td>\n",
       "      <td>12.00</td>\n",
       "      <td>3</td>\n",
       "      <td>12.50</td>\n",
       "      <td>1</td>\n",
       "      <td>147,716,000</td>\n",
       "      <td>12.50</td>\n",
       "      <td>13.75</td>\n",
       "      <td>11.25</td>\n",
       "    </tr>\n",
       "    <tr>\n",
       "      <th>9951</th>\n",
       "      <td>皇田</td>\n",
       "      <td>63.60</td>\n",
       "      <td>+0.10</td>\n",
       "      <td>64.00</td>\n",
       "      <td>64.00</td>\n",
       "      <td>63.40</td>\n",
       "      <td>63.71</td>\n",
       "      <td>11,450</td>\n",
       "      <td>729,509</td>\n",
       "      <td>15</td>\n",
       "      <td>63.50</td>\n",
       "      <td>1</td>\n",
       "      <td>63.60</td>\n",
       "      <td>4</td>\n",
       "      <td>74,900,000</td>\n",
       "      <td>63.60</td>\n",
       "      <td>69.90</td>\n",
       "      <td>57.30</td>\n",
       "    </tr>\n",
       "    <tr>\n",
       "      <th>9960</th>\n",
       "      <td>邁達康</td>\n",
       "      <td>26.80</td>\n",
       "      <td>-0.05</td>\n",
       "      <td>26.80</td>\n",
       "      <td>26.85</td>\n",
       "      <td>26.65</td>\n",
       "      <td>26.78</td>\n",
       "      <td>26,003</td>\n",
       "      <td>696,278</td>\n",
       "      <td>18</td>\n",
       "      <td>26.75</td>\n",
       "      <td>1</td>\n",
       "      <td>26.85</td>\n",
       "      <td>3</td>\n",
       "      <td>33,592,500</td>\n",
       "      <td>26.80</td>\n",
       "      <td>29.45</td>\n",
       "      <td>24.15</td>\n",
       "    </tr>\n",
       "    <tr>\n",
       "      <th>9962</th>\n",
       "      <td>有益</td>\n",
       "      <td>15.85</td>\n",
       "      <td>+0.80</td>\n",
       "      <td>15.20</td>\n",
       "      <td>15.90</td>\n",
       "      <td>15.10</td>\n",
       "      <td>15.65</td>\n",
       "      <td>1,530,973</td>\n",
       "      <td>23,954,808</td>\n",
       "      <td>767</td>\n",
       "      <td>15.85</td>\n",
       "      <td>7</td>\n",
       "      <td>15.90</td>\n",
       "      <td>35</td>\n",
       "      <td>90,220,260</td>\n",
       "      <td>15.85</td>\n",
       "      <td>17.40</td>\n",
       "      <td>14.30</td>\n",
       "    </tr>\n",
       "  </tbody>\n",
       "</table>\n",
       "<p>797 rows × 18 columns</p>\n",
       "</div>"
      ],
      "text/plain": [
       "         1       2       3       4       5       6       7          8   \\\n",
       "0                                                                        \n",
       "1240   茂生農經   47.50   +0.65   46.95   47.50   46.95   47.25     82,855   \n",
       "1258  其祥-KY   24.70   +0.55   23.90   25.50   23.70   24.78  1,086,455   \n",
       "1259     安心   71.30  -0.10    71.40   71.40   71.30   71.32      7,342   \n",
       "1264     德麥  259.00   +1.50  259.00  259.00  259.00  259.60      2,953   \n",
       "1268   漢來美食  107.00   0.00   106.00  107.00  106.00  106.76      6,057   \n",
       "...     ...     ...     ...     ...     ...     ...     ...        ...   \n",
       "9949     琉園   19.90   +0.05   19.70   19.90   19.55   19.73      8,902   \n",
       "9950    萬國通   12.50   +0.50   11.80   12.50   11.80   12.46     19,000   \n",
       "9951     皇田   63.60   +0.10   64.00   64.00   63.40   63.71     11,450   \n",
       "9960    邁達康   26.80  -0.05    26.80   26.85   26.65   26.78     26,003   \n",
       "9962     有益   15.85   +0.80   15.20   15.90   15.10   15.65  1,530,973   \n",
       "\n",
       "              9    10      11 12      13  14           15      16      17  \\\n",
       "0                                                                           \n",
       "1240   3,915,261   77   47.45  1   47.50  14   36,760,185   47.50   52.20   \n",
       "1258  26,917,122  421   24.70  1   24.75   1   36,819,791   24.70   27.15   \n",
       "1259     523,653   17   71.20  2   71.30   1   32,389,500   71.30   78.40   \n",
       "1264     766,591  112  258.00  1  259.50   1   37,064,367  259.00  284.50   \n",
       "1268     646,627   11  106.50  3  107.00   4   42,723,730  107.00  117.50   \n",
       "...          ...  ...     ... ..     ...  ..          ...     ...     ...   \n",
       "9949     175,629   28   19.55  1   19.85   1   44,033,360   19.90   21.85   \n",
       "9950     236,800    6   12.00  3   12.50   1  147,716,000   12.50   13.75   \n",
       "9951     729,509   15   63.50  1   63.60   4   74,900,000   63.60   69.90   \n",
       "9960     696,278   18   26.75  1   26.85   3   33,592,500   26.80   29.45   \n",
       "9962  23,954,808  767   15.85  7   15.90  35   90,220,260   15.85   17.40   \n",
       "\n",
       "          18  \n",
       "0             \n",
       "1240   42.75  \n",
       "1258   22.25  \n",
       "1259   64.20  \n",
       "1264  233.50  \n",
       "1268   96.30  \n",
       "...      ...  \n",
       "9949   17.95  \n",
       "9950   11.25  \n",
       "9951   57.30  \n",
       "9960   24.15  \n",
       "9962   14.30  \n",
       "\n",
       "[797 rows x 18 columns]"
      ]
     },
     "execution_count": 4,
     "metadata": {},
     "output_type": "execute_result"
    }
   ],
   "source": [
    "today = date.today()\n",
    "day = today.strftime(\"%m/%d\")\n",
    "datestr = today.strftime(\"%Y%m%d\")\n",
    "print(datestr)\n",
    "# 上市\n",
    "r = requests.post('https://www.twse.com.tw/exchangeReport/MI_INDEX?response=csv&type=ALL')\n",
    "df = pd.read_csv(StringIO(r.text.replace(\"=\", \"\")), header=[\"證券代號\" in l for l in r.text.split(\"\\n\")].index(True)-1, index_col=['證券代號'])\n",
    "df=df[df.index.str.len() <5]\n",
    "df1 = df.iloc[:, 0:1]\n",
    "\n",
    "#上櫃\n",
    "#r = requests.post('https://www.tpex.org.tw/web/stock/aftertrading/daily_close_quotes/stk_quote_result.php?l=zh-tw&d=' + datestr+'&s=0,asc,0')\n",
    "r = requests.post('https://www.tpex.org.tw/web/stock/aftertrading/daily_close_quotes/stk_quote_result.php')\n",
    "json_data = json.loads(r.text)\n",
    "stock_json = json_data[\"aaData\"]\n",
    "df2 = pd.DataFrame(stock_json)\n",
    "df2 = df2.set_index([0])\n",
    "df2=df2[df2.index.str.len() <5]\n",
    "df3 = df2.iloc[:, 0:1]\n",
    "df3.columns = ['證券名稱']\n",
    "\n",
    "df2"
   ]
  },
  {
   "cell_type": "markdown",
   "metadata": {},
   "source": [
    "## 2. 創date list"
   ]
  },
  {
   "cell_type": "code",
   "execution_count": 5,
   "metadata": {},
   "outputs": [],
   "source": [
    "high = pd.read_pickle(\"./history_2022/最高價.pkl\")[-2220:]\n",
    "high.to_csv(\"./test/date_list.csv\",encoding='utf_8_sig')\n"
   ]
  },
  {
   "cell_type": "code",
   "execution_count": 83,
   "metadata": {},
   "outputs": [],
   "source": []
  },
  {
   "cell_type": "code",
   "execution_count": null,
   "metadata": {},
   "outputs": [],
   "source": []
  },
  {
   "cell_type": "markdown",
   "metadata": {},
   "source": [
    "## 3. 存大盤漲跌幅"
   ]
  },
  {
   "cell_type": "code",
   "execution_count": 27,
   "metadata": {},
   "outputs": [
    {
     "name": "stderr",
     "output_type": "stream",
     "text": [
      "100%|████████████████████████████████████████████████████████████████████████████████| 340/340 [14:20<00:00,  2.53s/it]\n"
     ]
    }
   ],
   "source": [
    "df = pd.read_csv('./test/date_list.csv')\n",
    "import requests\n",
    "result = []\n",
    "for i in tqdm(df[\"date\"]):\n",
    "    day = i.replace('-','/')\n",
    "    url = 'https://www.taifex.com.tw/cht/3/futDailyMarketReport'\n",
    "    payload = {'queryType': '2'\n",
    "        , 'marketCode': '0'\n",
    "        , 'dateaddcnt': ''\n",
    "        , 'commodity_id': 'TX'\n",
    "        , 'commodity_id2': ''\n",
    "        , 'queryDate': day\n",
    "        , 'MarketCode': '0'\n",
    "        , 'commodity_idt': 'TX'\n",
    "        , 'commodity_id2t': ''\n",
    "        , 'commodity_id2t2': ''}\n",
    "    encoding = 'utf8'\n",
    "    r = requests.post(url, data=payload)\n",
    "\n",
    "    soup = BeautifulSoup(r.text, 'html.parser')\n",
    "    data = soup.find_all('td',class_ = \"12bk\")\n",
    "    result.append([day,data[2].getText(),data[3].getText(),data[4].getText(),data[5].getText()])\n",
    "    time.sleep(2)\n",
    "new_df = pd.DataFrame(result)\n",
    "new_df.to_csv(\"./台指期.csv\",encoding='utf_8_sig')"
   ]
  },
  {
   "cell_type": "code",
   "execution_count": 28,
   "metadata": {},
   "outputs": [],
   "source": [
    "data = pd.read_csv('./tx.csv', index_col = False)\n",
    "data.columns = ['index','date', 'start', 'high', 'low', 'end']\n",
    "#data['大盤漲跌幅'] = round(data['end'].diff(1))\n",
    "data.to_csv(\"./tx.csv\",encoding='utf_8_sig', index=False)"
   ]
  },
  {
   "cell_type": "markdown",
   "metadata": {},
   "source": [
    "## 3. 合併個股價格和大盤"
   ]
  },
  {
   "cell_type": "code",
   "execution_count": 13,
   "metadata": {
    "scrolled": true
   },
   "outputs": [
    {
     "data": {
      "text/html": [
       "<div>\n",
       "<style scoped>\n",
       "    .dataframe tbody tr th:only-of-type {\n",
       "        vertical-align: middle;\n",
       "    }\n",
       "\n",
       "    .dataframe tbody tr th {\n",
       "        vertical-align: top;\n",
       "    }\n",
       "\n",
       "    .dataframe thead th {\n",
       "        text-align: right;\n",
       "    }\n",
       "</style>\n",
       "<table border=\"1\" class=\"dataframe\">\n",
       "  <thead>\n",
       "    <tr style=\"text-align: right;\">\n",
       "      <th></th>\n",
       "      <th></th>\n",
       "      <th>投信買賣超%</th>\n",
       "      <th>投信持有%</th>\n",
       "      <th>外資買賣超%</th>\n",
       "      <th>外資持有%</th>\n",
       "      <th>投信買賣超(張)</th>\n",
       "      <th>投信持有(張)</th>\n",
       "      <th>外資買賣超(張)</th>\n",
       "      <th>外資持有(張)</th>\n",
       "    </tr>\n",
       "    <tr>\n",
       "      <th>stock_id</th>\n",
       "      <th>date</th>\n",
       "      <th></th>\n",
       "      <th></th>\n",
       "      <th></th>\n",
       "      <th></th>\n",
       "      <th></th>\n",
       "      <th></th>\n",
       "      <th></th>\n",
       "      <th></th>\n",
       "    </tr>\n",
       "  </thead>\n",
       "  <tbody>\n",
       "    <tr>\n",
       "      <th rowspan=\"11\" valign=\"top\">9962</th>\n",
       "      <th>2013-06-18</th>\n",
       "      <td>0.0</td>\n",
       "      <td>0.0</td>\n",
       "      <td>0.00000</td>\n",
       "      <td>0.00111</td>\n",
       "      <td>0.0</td>\n",
       "      <td>0.0</td>\n",
       "      <td>0.0</td>\n",
       "      <td>1.0</td>\n",
       "    </tr>\n",
       "    <tr>\n",
       "      <th>2013-06-19</th>\n",
       "      <td>0.0</td>\n",
       "      <td>0.0</td>\n",
       "      <td>0.00000</td>\n",
       "      <td>0.00111</td>\n",
       "      <td>0.0</td>\n",
       "      <td>0.0</td>\n",
       "      <td>0.0</td>\n",
       "      <td>1.0</td>\n",
       "    </tr>\n",
       "    <tr>\n",
       "      <th>2013-06-20</th>\n",
       "      <td>0.0</td>\n",
       "      <td>0.0</td>\n",
       "      <td>0.00000</td>\n",
       "      <td>0.00111</td>\n",
       "      <td>0.0</td>\n",
       "      <td>0.0</td>\n",
       "      <td>0.0</td>\n",
       "      <td>1.0</td>\n",
       "    </tr>\n",
       "    <tr>\n",
       "      <th>2013-06-21</th>\n",
       "      <td>0.0</td>\n",
       "      <td>0.0</td>\n",
       "      <td>0.00000</td>\n",
       "      <td>0.00111</td>\n",
       "      <td>0.0</td>\n",
       "      <td>0.0</td>\n",
       "      <td>0.0</td>\n",
       "      <td>1.0</td>\n",
       "    </tr>\n",
       "    <tr>\n",
       "      <th>2013-06-24</th>\n",
       "      <td>0.0</td>\n",
       "      <td>0.0</td>\n",
       "      <td>0.00000</td>\n",
       "      <td>0.00111</td>\n",
       "      <td>0.0</td>\n",
       "      <td>0.0</td>\n",
       "      <td>0.0</td>\n",
       "      <td>1.0</td>\n",
       "    </tr>\n",
       "    <tr>\n",
       "      <th>...</th>\n",
       "      <td>...</td>\n",
       "      <td>...</td>\n",
       "      <td>...</td>\n",
       "      <td>...</td>\n",
       "      <td>...</td>\n",
       "      <td>...</td>\n",
       "      <td>...</td>\n",
       "      <td>...</td>\n",
       "    </tr>\n",
       "    <tr>\n",
       "      <th>2022-06-28</th>\n",
       "      <td>0.0</td>\n",
       "      <td>0.0</td>\n",
       "      <td>-0.20062</td>\n",
       "      <td>1.29793</td>\n",
       "      <td>0.0</td>\n",
       "      <td>0.0</td>\n",
       "      <td>-181.0</td>\n",
       "      <td>1171.0</td>\n",
       "    </tr>\n",
       "    <tr>\n",
       "      <th>2022-06-29</th>\n",
       "      <td>0.0</td>\n",
       "      <td>0.0</td>\n",
       "      <td>-0.10641</td>\n",
       "      <td>1.23365</td>\n",
       "      <td>0.0</td>\n",
       "      <td>0.0</td>\n",
       "      <td>-96.0</td>\n",
       "      <td>1113.0</td>\n",
       "    </tr>\n",
       "    <tr>\n",
       "      <th>2022-06-30</th>\n",
       "      <td>0.0</td>\n",
       "      <td>0.0</td>\n",
       "      <td>-0.17402</td>\n",
       "      <td>1.06960</td>\n",
       "      <td>0.0</td>\n",
       "      <td>0.0</td>\n",
       "      <td>-157.0</td>\n",
       "      <td>965.0</td>\n",
       "    </tr>\n",
       "    <tr>\n",
       "      <th>2022-07-01</th>\n",
       "      <td>0.0</td>\n",
       "      <td>0.0</td>\n",
       "      <td>0.00887</td>\n",
       "      <td>1.09177</td>\n",
       "      <td>0.0</td>\n",
       "      <td>0.0</td>\n",
       "      <td>8.0</td>\n",
       "      <td>985.0</td>\n",
       "    </tr>\n",
       "    <tr>\n",
       "      <th>2022-07-04</th>\n",
       "      <td>0.0</td>\n",
       "      <td>0.0</td>\n",
       "      <td>0.21614</td>\n",
       "      <td>1.30791</td>\n",
       "      <td>0.0</td>\n",
       "      <td>0.0</td>\n",
       "      <td>195.0</td>\n",
       "      <td>1180.0</td>\n",
       "    </tr>\n",
       "  </tbody>\n",
       "</table>\n",
       "<p>2220 rows × 8 columns</p>\n",
       "</div>"
      ],
      "text/plain": [
       "                     投信買賣超%  投信持有%   外資買賣超%    外資持有%  投信買賣超(張)  投信持有(張)  \\\n",
       "stock_id date                                                             \n",
       "9962     2013-06-18     0.0    0.0  0.00000  0.00111       0.0      0.0   \n",
       "         2013-06-19     0.0    0.0  0.00000  0.00111       0.0      0.0   \n",
       "         2013-06-20     0.0    0.0  0.00000  0.00111       0.0      0.0   \n",
       "         2013-06-21     0.0    0.0  0.00000  0.00111       0.0      0.0   \n",
       "         2013-06-24     0.0    0.0  0.00000  0.00111       0.0      0.0   \n",
       "...                     ...    ...      ...      ...       ...      ...   \n",
       "         2022-06-28     0.0    0.0 -0.20062  1.29793       0.0      0.0   \n",
       "         2022-06-29     0.0    0.0 -0.10641  1.23365       0.0      0.0   \n",
       "         2022-06-30     0.0    0.0 -0.17402  1.06960       0.0      0.0   \n",
       "         2022-07-01     0.0    0.0  0.00887  1.09177       0.0      0.0   \n",
       "         2022-07-04     0.0    0.0  0.21614  1.30791       0.0      0.0   \n",
       "\n",
       "                     外資買賣超(張)  外資持有(張)  \n",
       "stock_id date                           \n",
       "9962     2013-06-18       0.0      1.0  \n",
       "         2013-06-19       0.0      1.0  \n",
       "         2013-06-20       0.0      1.0  \n",
       "         2013-06-21       0.0      1.0  \n",
       "         2013-06-24       0.0      1.0  \n",
       "...                       ...      ...  \n",
       "         2022-06-28    -181.0   1171.0  \n",
       "         2022-06-29     -96.0   1113.0  \n",
       "         2022-06-30    -157.0    965.0  \n",
       "         2022-07-01       8.0    985.0  \n",
       "         2022-07-04     195.0   1180.0  \n",
       "\n",
       "[2220 rows x 8 columns]"
      ]
     },
     "execution_count": 13,
     "metadata": {},
     "output_type": "execute_result"
    }
   ],
   "source": [
    "threebig = pd.read_pickle(\"./history_2022/投信外資買賣超.pkl\")[-2220:]\n",
    "threebig\n",
    "# data = pd.read_csv('./tx.csv')\n",
    "# data"
   ]
  },
  {
   "cell_type": "code",
   "execution_count": 7,
   "metadata": {},
   "outputs": [
    {
     "name": "stderr",
     "output_type": "stream",
     "text": [
      "100%|██████████████████████████████████████████████████████████████████████████████| 1774/1774 [00:54<00:00, 32.70it/s]\n"
     ]
    }
   ],
   "source": [
    "high = pd.read_pickle(\"./history_2022/最高價.pkl\")[-2220:]\n",
    "low = pd.read_pickle(\"./history_2022/最低價.pkl\")[-2220:]\n",
    "start = pd.read_pickle(\"./history_2022/開盤價.pkl\")[-2220:]\n",
    "end = pd.read_pickle(\"./history_2022/收盤價.pkl\")[-2220:]\n",
    "volumn = pd.read_pickle(\"./history_2022/成交股數.pkl\")[-2220:]\n",
    "data = pd.read_csv('./tx.csv')\n",
    "data['大盤漲跌幅'] = round(data['end'].diff(1))\n",
    "for s in tqdm(stock_list_df.index):\n",
    "    try:\n",
    "    #print(s)\n",
    "        id = str(s)\n",
    "        result = pd.concat([start[id],high[id],low[id],end[id],volumn[id]/1000], axis=1, keys=[\"開盤價\", \"最高價\", \"最低價\", \"收盤價\",\"量\"])\n",
    "        result['漲跌幅'] = round(result['收盤價'].pct_change()*100,2)\n",
    "        result.index = range(len(result))\n",
    "        #print(result.index)\n",
    "        #print(stock_list_df[stock_list_df.index==s]['證券名稱'].values[0])\n",
    "        data = data.reset_index(drop=True)\n",
    "        df = pd.DataFrame(result)\n",
    "        combine = pd.concat([data['date'],data['start'],data['high'],data['low'],data['end'],data['大盤漲跌幅'] ,result],axis=1)\n",
    "        #display(combine)\n",
    "        #combine['date'] = combine['date'].apply(date_convert)\n",
    "        combine.to_csv(\"./個股資料/\"+id+\"_\"+stock_list_df[stock_list_df.index==s]['證券名稱'].values[0].replace('*','')+\".csv\",encoding='utf_8_sig', index=False)\n",
    "    except:\n",
    "        print('error ', s, stock_list_df[stock_list_df.index==s]['證券名稱'].values[0])\n",
    "        pass"
   ]
  },
  {
   "cell_type": "markdown",
   "metadata": {},
   "source": [
    "## 4. 融資"
   ]
  },
  {
   "cell_type": "code",
   "execution_count": 11,
   "metadata": {},
   "outputs": [],
   "source": [
    "def transform_date(date):   #民國轉西元\n",
    "        y, m, d = date.split('/')\n",
    "        return str(int(y)+1911) + '/' + m  + '/' + d"
   ]
  },
  {
   "cell_type": "code",
   "execution_count": 8,
   "metadata": {
    "scrolled": true
   },
   "outputs": [
    {
     "name": "stdout",
     "output_type": "stream",
     "text": [
      "1101_台泥.csv ./ttttt/1101_台泥.csv\n",
      "2013/07/01 2022/07/20\n",
      "2013/07/01\n",
      "2022/07/20\n",
      "[<td class=\"t3n0\" colspan=\"\">查無(1101)融資融券資料</td>]\n"
     ]
    }
   ],
   "source": [
    "with os.scandir('./ttttt/') as it:\n",
    "    for entry in it:\n",
    "        if entry.name.endswith(\".csv\") and entry.is_file():\n",
    "            print(entry.name, entry.path)\n",
    "            id = entry.name.split('_')[0]\n",
    "            df = pd.read_csv(entry.path, index_col=\"date\")\n",
    "            df.insert(11, \"融資餘額\", 0) \n",
    "            df.insert(12, \"融資增減\", 0) \n",
    "            df.insert(13, \"融券餘額\", 0) \n",
    "            df.insert(14, \"融券增減\", 0) \n",
    "            df.insert(15, \"券資比\", 0) \n",
    "            print(df.index[0],df.index[-1])\n",
    "            s = df.index[0]\n",
    "            e = df.index[-1]\n",
    "            print(s)\n",
    "            print(e)\n",
    "            r = requests.get('https://concords.moneydj.com/z/zc/zcn/zcn.djhtm?a='+id+'&c='+s+'&d='+e)\n",
    "            soup = BeautifulSoup(r.text, 'html.parser')\n",
    "            data = soup.find_all(\"td\", class_ = [\"t3n0\",\"t3n1\"])\n",
    "            print(data)\n",
    "            for i in range(0,int(len(data)-4),15):\n",
    "                dd = data[i+1].getText()\n",
    "                date2 = transform_date(dd)\n",
    "                if(df.loc[date2,\"start\"]>1):\n",
    "                    df.loc[date2,\"融資餘額\"] = data[i+5].getText()\n",
    "                    df.loc[date2,\"融資增減\"] = data[i+6].getText()\n",
    "                    df.loc[date2,\"融券餘額\"] = data[i+12].getText()\n",
    "                    df.loc[date2,\"融券增減\"] = data[i+13].getText()\n",
    "                    df.loc[date2,\"券資比\"] = data[i+14].getText()\n",
    "            df.to_csv(entry.path,encoding='utf_8_sig')"
   ]
  },
  {
   "cell_type": "code",
   "execution_count": 55,
   "metadata": {},
   "outputs": [
    {
     "name": "stdout",
     "output_type": "stream",
     "text": [
      "ttt\n"
     ]
    }
   ],
   "source": [
    "try:\n",
    "    df.loc['2021/01/01','start']\n",
    "except:\n",
    "    print('ttt')\n"
   ]
  },
  {
   "cell_type": "markdown",
   "metadata": {},
   "source": [
    "## 5. 三大法人"
   ]
  },
  {
   "cell_type": "code",
   "execution_count": 56,
   "metadata": {},
   "outputs": [
    {
     "name": "stdout",
     "output_type": "stream",
     "text": [
      "0050_元大台灣50.csv ./ttttt/0050_元大台灣50.csv\n",
      "2013/07/01\n",
      "2022/07/20\n",
      "2021/02/09\n",
      "0051_元大中型100.csv ./ttttt/0051_元大中型100.csv\n",
      "2013/07/01\n",
      "2022/07/20\n",
      "2021/02/09\n",
      "0052_富邦科技.csv ./ttttt/0052_富邦科技.csv\n",
      "2013/07/01\n",
      "2022/07/20\n",
      "2021/02/09\n",
      "0053_元大電子.csv ./ttttt/0053_元大電子.csv\n",
      "2013/07/01\n",
      "2022/07/20\n",
      "2021/02/09\n",
      "0055_元大MSCI金融.csv ./ttttt/0055_元大MSCI金融.csv\n",
      "2013/07/01\n",
      "2022/07/20\n",
      "2021/02/09\n",
      "0056_元大高股息.csv ./ttttt/0056_元大高股息.csv\n",
      "2013/07/01\n",
      "2022/07/20\n",
      "2021/02/09\n",
      "0057_富邦摩台.csv ./ttttt/0057_富邦摩台.csv\n",
      "2013/07/01\n",
      "2022/07/20\n",
      "2021/02/09\n",
      "0061_元大寶滬深.csv ./ttttt/0061_元大寶滬深.csv\n",
      "2013/07/01\n",
      "2022/07/20\n",
      "2021/02/09\n",
      "1101_台泥.csv ./ttttt/1101_台泥.csv\n",
      "2013/07/01\n",
      "2022/07/20\n",
      "2021/02/09\n",
      "1102_亞泥.csv ./ttttt/1102_亞泥.csv\n",
      "2013/07/01\n",
      "2022/07/20\n",
      "2021/02/09\n",
      "1103_嘉泥.csv ./ttttt/1103_嘉泥.csv\n",
      "2013/07/01\n",
      "2022/07/20\n",
      "2021/02/09\n",
      "1104_環泥.csv ./ttttt/1104_環泥.csv\n",
      "2013/07/01\n",
      "2022/07/20\n",
      "2021/02/09\n",
      "1108_幸福.csv ./ttttt/1108_幸福.csv\n",
      "2013/07/01\n",
      "2022/07/20\n",
      "2021/02/09\n",
      "1109_信大.csv ./ttttt/1109_信大.csv\n",
      "2013/07/01\n",
      "2022/07/20\n",
      "2021/02/09\n",
      "2020/01/22\n",
      "1110_東泥.csv ./ttttt/1110_東泥.csv\n",
      "2013/07/01\n",
      "2022/07/20\n",
      "2021/02/09\n",
      "2020/01/22\n",
      "1201_味全.csv ./ttttt/1201_味全.csv\n",
      "2013/07/01\n",
      "2022/07/20\n",
      "2021/02/09\n",
      "2020/01/22\n",
      "1203_味王.csv ./ttttt/1203_味王.csv\n",
      "2013/07/01\n",
      "2022/07/20\n",
      "2021/02/09\n",
      "2020/01/22\n",
      "1210_大成.csv ./ttttt/1210_大成.csv\n",
      "2013/07/01\n",
      "2022/07/20\n",
      "2021/02/09\n",
      "2020/01/22\n",
      "1213_大飲.csv ./ttttt/1213_大飲.csv\n",
      "2013/07/01\n",
      "2022/07/20\n",
      "2021/02/09\n",
      "2020/01/22\n",
      "1215_卜蜂.csv ./ttttt/1215_卜蜂.csv\n",
      "2013/07/01\n",
      "2022/07/20\n",
      "2021/02/09\n",
      "2020/01/22\n",
      "1216_統一.csv ./ttttt/1216_統一.csv\n",
      "2013/07/01\n",
      "2022/07/20\n",
      "2021/02/09\n",
      "2020/01/22\n",
      "1217_愛之味.csv ./ttttt/1217_愛之味.csv\n",
      "2013/07/01\n",
      "2022/07/20\n",
      "2021/02/09\n",
      "2020/01/22\n",
      "1218_泰山.csv ./ttttt/1218_泰山.csv\n",
      "2013/07/01\n",
      "2022/07/20\n",
      "2021/02/09\n",
      "2020/01/22\n",
      "1219_福壽.csv ./ttttt/1219_福壽.csv\n",
      "2013/07/01\n",
      "2022/07/20\n",
      "2021/02/09\n",
      "2020/01/22\n",
      "1220_台榮.csv ./ttttt/1220_台榮.csv\n",
      "2013/07/01\n",
      "2022/07/20\n",
      "2021/02/09\n",
      "2020/01/22\n",
      "1225_福懋油.csv ./ttttt/1225_福懋油.csv\n",
      "2013/07/01\n",
      "2022/07/20\n",
      "2021/02/09\n",
      "2020/01/22\n",
      "1227_佳格.csv ./ttttt/1227_佳格.csv\n",
      "2013/07/01\n",
      "2022/07/20\n",
      "2021/02/09\n",
      "2020/01/22\n",
      "1229_聯華.csv ./ttttt/1229_聯華.csv\n",
      "2013/07/01\n",
      "2022/07/20\n",
      "2021/02/09\n",
      "2020/01/22\n",
      "1231_聯華食.csv ./ttttt/1231_聯華食.csv\n",
      "2013/07/01\n",
      "2022/07/20\n",
      "2021/02/09\n",
      "2020/01/22\n",
      "1232_大統益.csv ./ttttt/1232_大統益.csv\n",
      "2013/07/01\n",
      "2022/07/20\n",
      "2021/02/09\n",
      "2020/01/22\n",
      "1233_天仁.csv ./ttttt/1233_天仁.csv\n",
      "2013/07/01\n",
      "2022/07/20\n",
      "2021/02/09\n",
      "2020/01/22\n",
      "1234_黑松.csv ./ttttt/1234_黑松.csv\n",
      "2013/07/01\n",
      "2022/07/20\n",
      "2021/02/09\n",
      "1235_興泰.csv ./ttttt/1235_興泰.csv\n",
      "2013/07/01\n",
      "2022/07/20\n",
      "2021/02/09\n",
      "1236_宏亞.csv ./ttttt/1236_宏亞.csv\n",
      "2013/07/01\n",
      "2022/07/20\n",
      "2021/02/09\n",
      "1240_茂生農經.csv ./ttttt/1240_茂生農經.csv\n",
      "2013/07/01\n",
      "2022/07/20\n",
      "2021/02/09\n",
      "2020/01/22\n",
      "2018/10/10\n",
      "1256_鮮活果汁-KY.csv ./ttttt/1256_鮮活果汁-KY.csv\n",
      "2013/07/01\n",
      "2022/07/20\n",
      "2021/02/09\n",
      "2020/01/22\n",
      "1258_其祥-KY.csv ./ttttt/1258_其祥-KY.csv\n",
      "2013/07/01\n",
      "2022/07/20\n",
      "2021/02/09\n",
      "2020/01/22\n",
      "2018/10/10\n",
      "1259_安心.csv ./ttttt/1259_安心.csv\n",
      "2013/07/01\n",
      "2022/07/20\n",
      "2021/02/09\n",
      "2020/01/22\n",
      "2018/10/10\n",
      "1264_德麥.csv ./ttttt/1264_德麥.csv\n",
      "2013/07/01\n",
      "2022/07/20\n",
      "2021/02/09\n",
      "2020/01/22\n",
      "2018/10/10\n",
      "1268_漢來美食.csv ./ttttt/1268_漢來美食.csv\n",
      "2013/07/01\n",
      "2022/07/20\n",
      "2021/02/09\n",
      "2020/01/22\n",
      "2018/10/10\n",
      "1301_台塑.csv ./ttttt/1301_台塑.csv\n",
      "2013/07/01\n",
      "2022/07/20\n",
      "2021/02/09\n",
      "1303_南亞.csv ./ttttt/1303_南亞.csv\n",
      "2013/07/01\n",
      "2022/07/20\n",
      "2021/02/09\n",
      "1304_台聚.csv ./ttttt/1304_台聚.csv\n",
      "2013/07/01\n",
      "2022/07/20\n",
      "2021/02/09\n",
      "2020/01/22\n",
      "1305_華夏.csv ./ttttt/1305_華夏.csv\n",
      "2013/07/01\n",
      "2022/07/20\n",
      "2021/02/09\n",
      "2020/01/22\n",
      "1307_三芳.csv ./ttttt/1307_三芳.csv\n",
      "2013/07/01\n",
      "2022/07/20\n",
      "2021/02/09\n",
      "2020/01/22\n",
      "1308_亞聚.csv ./ttttt/1308_亞聚.csv\n",
      "2013/07/01\n",
      "2022/07/20\n",
      "2021/02/09\n",
      "2020/01/22\n",
      "1309_台達化.csv ./ttttt/1309_台達化.csv\n",
      "2013/07/01\n",
      "2022/07/20\n",
      "2021/02/09\n",
      "2020/01/22\n",
      "1310_台苯.csv ./ttttt/1310_台苯.csv\n",
      "2013/07/01\n",
      "2022/07/20\n",
      "2021/02/09\n",
      "1312_國喬.csv ./ttttt/1312_國喬.csv\n",
      "2013/07/01\n",
      "2022/07/20\n",
      "2021/02/09\n",
      "1313_聯成.csv ./ttttt/1313_聯成.csv\n",
      "2013/07/01\n",
      "2022/07/20\n",
      "2021/02/09\n",
      "2020/01/22\n",
      "1314_中石化.csv ./ttttt/1314_中石化.csv\n",
      "2013/07/01\n",
      "2022/07/20\n",
      "2021/02/09\n",
      "2020/01/22\n",
      "1315_達新.csv ./ttttt/1315_達新.csv\n",
      "2013/07/01\n",
      "2022/07/20\n",
      "2021/02/09\n",
      "1316_上曜.csv ./ttttt/1316_上曜.csv\n",
      "2013/07/01\n",
      "2022/07/20\n",
      "2021/02/09\n",
      "1319_東陽.csv ./ttttt/1319_東陽.csv\n",
      "2013/07/01\n",
      "2022/07/20\n",
      "2021/02/09\n",
      "2020/01/22\n",
      "1321_大洋.csv ./ttttt/1321_大洋.csv\n",
      "2013/07/01\n",
      "2022/07/20\n"
     ]
    },
    {
     "ename": "KeyboardInterrupt",
     "evalue": "",
     "output_type": "error",
     "traceback": [
      "\u001b[1;31m---------------------------------------------------------------------------\u001b[0m",
      "\u001b[1;31mKeyboardInterrupt\u001b[0m                         Traceback (most recent call last)",
      "\u001b[1;32m<ipython-input-56-fff9453a6bc7>\u001b[0m in \u001b[0;36m<module>\u001b[1;34m\u001b[0m\n\u001b[0;32m     17\u001b[0m             \u001b[0mprint\u001b[0m\u001b[1;33m(\u001b[0m\u001b[0ms\u001b[0m\u001b[1;33m)\u001b[0m\u001b[1;33m\u001b[0m\u001b[1;33m\u001b[0m\u001b[0m\n\u001b[0;32m     18\u001b[0m             \u001b[0mprint\u001b[0m\u001b[1;33m(\u001b[0m\u001b[0me\u001b[0m\u001b[1;33m)\u001b[0m\u001b[1;33m\u001b[0m\u001b[1;33m\u001b[0m\u001b[0m\n\u001b[1;32m---> 19\u001b[1;33m             \u001b[0mr\u001b[0m \u001b[1;33m=\u001b[0m \u001b[0mrequests\u001b[0m\u001b[1;33m.\u001b[0m\u001b[0mget\u001b[0m\u001b[1;33m(\u001b[0m\u001b[1;34m'https://concords.moneydj.com/z/zc/zcl/zcl.djhtm?a='\u001b[0m\u001b[1;33m+\u001b[0m\u001b[0mid\u001b[0m\u001b[1;33m+\u001b[0m\u001b[1;34m'&c='\u001b[0m\u001b[1;33m+\u001b[0m\u001b[0ms\u001b[0m\u001b[1;33m+\u001b[0m\u001b[1;34m'&d='\u001b[0m\u001b[1;33m+\u001b[0m\u001b[0me\u001b[0m\u001b[1;33m)\u001b[0m\u001b[1;33m\u001b[0m\u001b[1;33m\u001b[0m\u001b[0m\n\u001b[0m\u001b[0;32m     20\u001b[0m             \u001b[1;31m#r = requests.get('https://concords.moneydj.com/z/zc/zcl/zcl.djhtm?a='+id+'&c='+s+'&d='+e)\u001b[0m\u001b[1;33m\u001b[0m\u001b[1;33m\u001b[0m\u001b[1;33m\u001b[0m\u001b[0m\n\u001b[0;32m     21\u001b[0m             \u001b[0msoup\u001b[0m \u001b[1;33m=\u001b[0m \u001b[0mBeautifulSoup\u001b[0m\u001b[1;33m(\u001b[0m\u001b[0mr\u001b[0m\u001b[1;33m.\u001b[0m\u001b[0mtext\u001b[0m\u001b[1;33m,\u001b[0m \u001b[1;34m'html.parser'\u001b[0m\u001b[1;33m)\u001b[0m\u001b[1;33m\u001b[0m\u001b[1;33m\u001b[0m\u001b[0m\n",
      "\u001b[1;32m~\\Anaconda3\\lib\\site-packages\\requests\\api.py\u001b[0m in \u001b[0;36mget\u001b[1;34m(url, params, **kwargs)\u001b[0m\n\u001b[0;32m     71\u001b[0m     \"\"\"\n\u001b[0;32m     72\u001b[0m \u001b[1;33m\u001b[0m\u001b[0m\n\u001b[1;32m---> 73\u001b[1;33m     \u001b[1;32mreturn\u001b[0m \u001b[0mrequest\u001b[0m\u001b[1;33m(\u001b[0m\u001b[1;34m\"get\"\u001b[0m\u001b[1;33m,\u001b[0m \u001b[0murl\u001b[0m\u001b[1;33m,\u001b[0m \u001b[0mparams\u001b[0m\u001b[1;33m=\u001b[0m\u001b[0mparams\u001b[0m\u001b[1;33m,\u001b[0m \u001b[1;33m**\u001b[0m\u001b[0mkwargs\u001b[0m\u001b[1;33m)\u001b[0m\u001b[1;33m\u001b[0m\u001b[1;33m\u001b[0m\u001b[0m\n\u001b[0m\u001b[0;32m     74\u001b[0m \u001b[1;33m\u001b[0m\u001b[0m\n\u001b[0;32m     75\u001b[0m \u001b[1;33m\u001b[0m\u001b[0m\n",
      "\u001b[1;32m~\\Anaconda3\\lib\\site-packages\\requests\\api.py\u001b[0m in \u001b[0;36mrequest\u001b[1;34m(method, url, **kwargs)\u001b[0m\n\u001b[0;32m     57\u001b[0m     \u001b[1;31m# cases, and look like a memory leak in others.\u001b[0m\u001b[1;33m\u001b[0m\u001b[1;33m\u001b[0m\u001b[1;33m\u001b[0m\u001b[0m\n\u001b[0;32m     58\u001b[0m     \u001b[1;32mwith\u001b[0m \u001b[0msessions\u001b[0m\u001b[1;33m.\u001b[0m\u001b[0mSession\u001b[0m\u001b[1;33m(\u001b[0m\u001b[1;33m)\u001b[0m \u001b[1;32mas\u001b[0m \u001b[0msession\u001b[0m\u001b[1;33m:\u001b[0m\u001b[1;33m\u001b[0m\u001b[1;33m\u001b[0m\u001b[0m\n\u001b[1;32m---> 59\u001b[1;33m         \u001b[1;32mreturn\u001b[0m \u001b[0msession\u001b[0m\u001b[1;33m.\u001b[0m\u001b[0mrequest\u001b[0m\u001b[1;33m(\u001b[0m\u001b[0mmethod\u001b[0m\u001b[1;33m=\u001b[0m\u001b[0mmethod\u001b[0m\u001b[1;33m,\u001b[0m \u001b[0murl\u001b[0m\u001b[1;33m=\u001b[0m\u001b[0murl\u001b[0m\u001b[1;33m,\u001b[0m \u001b[1;33m**\u001b[0m\u001b[0mkwargs\u001b[0m\u001b[1;33m)\u001b[0m\u001b[1;33m\u001b[0m\u001b[1;33m\u001b[0m\u001b[0m\n\u001b[0m\u001b[0;32m     60\u001b[0m \u001b[1;33m\u001b[0m\u001b[0m\n\u001b[0;32m     61\u001b[0m \u001b[1;33m\u001b[0m\u001b[0m\n",
      "\u001b[1;32m~\\Anaconda3\\lib\\site-packages\\requests\\sessions.py\u001b[0m in \u001b[0;36mrequest\u001b[1;34m(self, method, url, params, data, headers, cookies, files, auth, timeout, allow_redirects, proxies, hooks, stream, verify, cert, json)\u001b[0m\n\u001b[0;32m    585\u001b[0m         }\n\u001b[0;32m    586\u001b[0m         \u001b[0msend_kwargs\u001b[0m\u001b[1;33m.\u001b[0m\u001b[0mupdate\u001b[0m\u001b[1;33m(\u001b[0m\u001b[0msettings\u001b[0m\u001b[1;33m)\u001b[0m\u001b[1;33m\u001b[0m\u001b[1;33m\u001b[0m\u001b[0m\n\u001b[1;32m--> 587\u001b[1;33m         \u001b[0mresp\u001b[0m \u001b[1;33m=\u001b[0m \u001b[0mself\u001b[0m\u001b[1;33m.\u001b[0m\u001b[0msend\u001b[0m\u001b[1;33m(\u001b[0m\u001b[0mprep\u001b[0m\u001b[1;33m,\u001b[0m \u001b[1;33m**\u001b[0m\u001b[0msend_kwargs\u001b[0m\u001b[1;33m)\u001b[0m\u001b[1;33m\u001b[0m\u001b[1;33m\u001b[0m\u001b[0m\n\u001b[0m\u001b[0;32m    588\u001b[0m \u001b[1;33m\u001b[0m\u001b[0m\n\u001b[0;32m    589\u001b[0m         \u001b[1;32mreturn\u001b[0m \u001b[0mresp\u001b[0m\u001b[1;33m\u001b[0m\u001b[1;33m\u001b[0m\u001b[0m\n",
      "\u001b[1;32m~\\Anaconda3\\lib\\site-packages\\requests\\sessions.py\u001b[0m in \u001b[0;36msend\u001b[1;34m(self, request, **kwargs)\u001b[0m\n\u001b[0;32m    699\u001b[0m \u001b[1;33m\u001b[0m\u001b[0m\n\u001b[0;32m    700\u001b[0m         \u001b[1;31m# Send the request\u001b[0m\u001b[1;33m\u001b[0m\u001b[1;33m\u001b[0m\u001b[1;33m\u001b[0m\u001b[0m\n\u001b[1;32m--> 701\u001b[1;33m         \u001b[0mr\u001b[0m \u001b[1;33m=\u001b[0m \u001b[0madapter\u001b[0m\u001b[1;33m.\u001b[0m\u001b[0msend\u001b[0m\u001b[1;33m(\u001b[0m\u001b[0mrequest\u001b[0m\u001b[1;33m,\u001b[0m \u001b[1;33m**\u001b[0m\u001b[0mkwargs\u001b[0m\u001b[1;33m)\u001b[0m\u001b[1;33m\u001b[0m\u001b[1;33m\u001b[0m\u001b[0m\n\u001b[0m\u001b[0;32m    702\u001b[0m \u001b[1;33m\u001b[0m\u001b[0m\n\u001b[0;32m    703\u001b[0m         \u001b[1;31m# Total elapsed time of the request (approximately)\u001b[0m\u001b[1;33m\u001b[0m\u001b[1;33m\u001b[0m\u001b[1;33m\u001b[0m\u001b[0m\n",
      "\u001b[1;32m~\\Anaconda3\\lib\\site-packages\\requests\\adapters.py\u001b[0m in \u001b[0;36msend\u001b[1;34m(self, request, stream, timeout, verify, cert, proxies)\u001b[0m\n\u001b[0;32m    487\u001b[0m         \u001b[1;32mtry\u001b[0m\u001b[1;33m:\u001b[0m\u001b[1;33m\u001b[0m\u001b[1;33m\u001b[0m\u001b[0m\n\u001b[0;32m    488\u001b[0m             \u001b[1;32mif\u001b[0m \u001b[1;32mnot\u001b[0m \u001b[0mchunked\u001b[0m\u001b[1;33m:\u001b[0m\u001b[1;33m\u001b[0m\u001b[1;33m\u001b[0m\u001b[0m\n\u001b[1;32m--> 489\u001b[1;33m                 resp = conn.urlopen(\n\u001b[0m\u001b[0;32m    490\u001b[0m                     \u001b[0mmethod\u001b[0m\u001b[1;33m=\u001b[0m\u001b[0mrequest\u001b[0m\u001b[1;33m.\u001b[0m\u001b[0mmethod\u001b[0m\u001b[1;33m,\u001b[0m\u001b[1;33m\u001b[0m\u001b[1;33m\u001b[0m\u001b[0m\n\u001b[0;32m    491\u001b[0m                     \u001b[0murl\u001b[0m\u001b[1;33m=\u001b[0m\u001b[0murl\u001b[0m\u001b[1;33m,\u001b[0m\u001b[1;33m\u001b[0m\u001b[1;33m\u001b[0m\u001b[0m\n",
      "\u001b[1;32m~\\Anaconda3\\lib\\site-packages\\urllib3\\connectionpool.py\u001b[0m in \u001b[0;36murlopen\u001b[1;34m(self, method, url, body, headers, retries, redirect, assert_same_host, timeout, pool_timeout, release_conn, chunked, body_pos, **response_kw)\u001b[0m\n\u001b[0;32m    668\u001b[0m \u001b[1;33m\u001b[0m\u001b[0m\n\u001b[0;32m    669\u001b[0m             \u001b[1;31m# Make the request on the httplib connection object.\u001b[0m\u001b[1;33m\u001b[0m\u001b[1;33m\u001b[0m\u001b[1;33m\u001b[0m\u001b[0m\n\u001b[1;32m--> 670\u001b[1;33m             httplib_response = self._make_request(\n\u001b[0m\u001b[0;32m    671\u001b[0m                 \u001b[0mconn\u001b[0m\u001b[1;33m,\u001b[0m\u001b[1;33m\u001b[0m\u001b[1;33m\u001b[0m\u001b[0m\n\u001b[0;32m    672\u001b[0m                 \u001b[0mmethod\u001b[0m\u001b[1;33m,\u001b[0m\u001b[1;33m\u001b[0m\u001b[1;33m\u001b[0m\u001b[0m\n",
      "\u001b[1;32m~\\Anaconda3\\lib\\site-packages\\urllib3\\connectionpool.py\u001b[0m in \u001b[0;36m_make_request\u001b[1;34m(self, conn, method, url, timeout, chunked, **httplib_request_kw)\u001b[0m\n\u001b[0;32m    424\u001b[0m                     \u001b[1;31m# Python 3 (including for exceptions like SystemExit).\u001b[0m\u001b[1;33m\u001b[0m\u001b[1;33m\u001b[0m\u001b[1;33m\u001b[0m\u001b[0m\n\u001b[0;32m    425\u001b[0m                     \u001b[1;31m# Otherwise it looks like a bug in the code.\u001b[0m\u001b[1;33m\u001b[0m\u001b[1;33m\u001b[0m\u001b[1;33m\u001b[0m\u001b[0m\n\u001b[1;32m--> 426\u001b[1;33m                     \u001b[0msix\u001b[0m\u001b[1;33m.\u001b[0m\u001b[0mraise_from\u001b[0m\u001b[1;33m(\u001b[0m\u001b[0me\u001b[0m\u001b[1;33m,\u001b[0m \u001b[1;32mNone\u001b[0m\u001b[1;33m)\u001b[0m\u001b[1;33m\u001b[0m\u001b[1;33m\u001b[0m\u001b[0m\n\u001b[0m\u001b[0;32m    427\u001b[0m         \u001b[1;32mexcept\u001b[0m \u001b[1;33m(\u001b[0m\u001b[0mSocketTimeout\u001b[0m\u001b[1;33m,\u001b[0m \u001b[0mBaseSSLError\u001b[0m\u001b[1;33m,\u001b[0m \u001b[0mSocketError\u001b[0m\u001b[1;33m)\u001b[0m \u001b[1;32mas\u001b[0m \u001b[0me\u001b[0m\u001b[1;33m:\u001b[0m\u001b[1;33m\u001b[0m\u001b[1;33m\u001b[0m\u001b[0m\n\u001b[0;32m    428\u001b[0m             \u001b[0mself\u001b[0m\u001b[1;33m.\u001b[0m\u001b[0m_raise_timeout\u001b[0m\u001b[1;33m(\u001b[0m\u001b[0merr\u001b[0m\u001b[1;33m=\u001b[0m\u001b[0me\u001b[0m\u001b[1;33m,\u001b[0m \u001b[0murl\u001b[0m\u001b[1;33m=\u001b[0m\u001b[0murl\u001b[0m\u001b[1;33m,\u001b[0m \u001b[0mtimeout_value\u001b[0m\u001b[1;33m=\u001b[0m\u001b[0mread_timeout\u001b[0m\u001b[1;33m)\u001b[0m\u001b[1;33m\u001b[0m\u001b[1;33m\u001b[0m\u001b[0m\n",
      "\u001b[1;32m~\\Anaconda3\\lib\\site-packages\\urllib3\\packages\\six.py\u001b[0m in \u001b[0;36mraise_from\u001b[1;34m(value, from_value)\u001b[0m\n",
      "\u001b[1;32m~\\Anaconda3\\lib\\site-packages\\urllib3\\connectionpool.py\u001b[0m in \u001b[0;36m_make_request\u001b[1;34m(self, conn, method, url, timeout, chunked, **httplib_request_kw)\u001b[0m\n\u001b[0;32m    419\u001b[0m                 \u001b[1;31m# Python 3\u001b[0m\u001b[1;33m\u001b[0m\u001b[1;33m\u001b[0m\u001b[1;33m\u001b[0m\u001b[0m\n\u001b[0;32m    420\u001b[0m                 \u001b[1;32mtry\u001b[0m\u001b[1;33m:\u001b[0m\u001b[1;33m\u001b[0m\u001b[1;33m\u001b[0m\u001b[0m\n\u001b[1;32m--> 421\u001b[1;33m                     \u001b[0mhttplib_response\u001b[0m \u001b[1;33m=\u001b[0m \u001b[0mconn\u001b[0m\u001b[1;33m.\u001b[0m\u001b[0mgetresponse\u001b[0m\u001b[1;33m(\u001b[0m\u001b[1;33m)\u001b[0m\u001b[1;33m\u001b[0m\u001b[1;33m\u001b[0m\u001b[0m\n\u001b[0m\u001b[0;32m    422\u001b[0m                 \u001b[1;32mexcept\u001b[0m \u001b[0mBaseException\u001b[0m \u001b[1;32mas\u001b[0m \u001b[0me\u001b[0m\u001b[1;33m:\u001b[0m\u001b[1;33m\u001b[0m\u001b[1;33m\u001b[0m\u001b[0m\n\u001b[0;32m    423\u001b[0m                     \u001b[1;31m# Remove the TypeError from the exception chain in\u001b[0m\u001b[1;33m\u001b[0m\u001b[1;33m\u001b[0m\u001b[1;33m\u001b[0m\u001b[0m\n",
      "\u001b[1;32m~\\Anaconda3\\lib\\http\\client.py\u001b[0m in \u001b[0;36mgetresponse\u001b[1;34m(self)\u001b[0m\n\u001b[0;32m   1345\u001b[0m         \u001b[1;32mtry\u001b[0m\u001b[1;33m:\u001b[0m\u001b[1;33m\u001b[0m\u001b[1;33m\u001b[0m\u001b[0m\n\u001b[0;32m   1346\u001b[0m             \u001b[1;32mtry\u001b[0m\u001b[1;33m:\u001b[0m\u001b[1;33m\u001b[0m\u001b[1;33m\u001b[0m\u001b[0m\n\u001b[1;32m-> 1347\u001b[1;33m                 \u001b[0mresponse\u001b[0m\u001b[1;33m.\u001b[0m\u001b[0mbegin\u001b[0m\u001b[1;33m(\u001b[0m\u001b[1;33m)\u001b[0m\u001b[1;33m\u001b[0m\u001b[1;33m\u001b[0m\u001b[0m\n\u001b[0m\u001b[0;32m   1348\u001b[0m             \u001b[1;32mexcept\u001b[0m \u001b[0mConnectionError\u001b[0m\u001b[1;33m:\u001b[0m\u001b[1;33m\u001b[0m\u001b[1;33m\u001b[0m\u001b[0m\n\u001b[0;32m   1349\u001b[0m                 \u001b[0mself\u001b[0m\u001b[1;33m.\u001b[0m\u001b[0mclose\u001b[0m\u001b[1;33m(\u001b[0m\u001b[1;33m)\u001b[0m\u001b[1;33m\u001b[0m\u001b[1;33m\u001b[0m\u001b[0m\n",
      "\u001b[1;32m~\\Anaconda3\\lib\\http\\client.py\u001b[0m in \u001b[0;36mbegin\u001b[1;34m(self)\u001b[0m\n\u001b[0;32m    305\u001b[0m         \u001b[1;31m# read until we get a non-100 response\u001b[0m\u001b[1;33m\u001b[0m\u001b[1;33m\u001b[0m\u001b[1;33m\u001b[0m\u001b[0m\n\u001b[0;32m    306\u001b[0m         \u001b[1;32mwhile\u001b[0m \u001b[1;32mTrue\u001b[0m\u001b[1;33m:\u001b[0m\u001b[1;33m\u001b[0m\u001b[1;33m\u001b[0m\u001b[0m\n\u001b[1;32m--> 307\u001b[1;33m             \u001b[0mversion\u001b[0m\u001b[1;33m,\u001b[0m \u001b[0mstatus\u001b[0m\u001b[1;33m,\u001b[0m \u001b[0mreason\u001b[0m \u001b[1;33m=\u001b[0m \u001b[0mself\u001b[0m\u001b[1;33m.\u001b[0m\u001b[0m_read_status\u001b[0m\u001b[1;33m(\u001b[0m\u001b[1;33m)\u001b[0m\u001b[1;33m\u001b[0m\u001b[1;33m\u001b[0m\u001b[0m\n\u001b[0m\u001b[0;32m    308\u001b[0m             \u001b[1;32mif\u001b[0m \u001b[0mstatus\u001b[0m \u001b[1;33m!=\u001b[0m \u001b[0mCONTINUE\u001b[0m\u001b[1;33m:\u001b[0m\u001b[1;33m\u001b[0m\u001b[1;33m\u001b[0m\u001b[0m\n\u001b[0;32m    309\u001b[0m                 \u001b[1;32mbreak\u001b[0m\u001b[1;33m\u001b[0m\u001b[1;33m\u001b[0m\u001b[0m\n",
      "\u001b[1;32m~\\Anaconda3\\lib\\http\\client.py\u001b[0m in \u001b[0;36m_read_status\u001b[1;34m(self)\u001b[0m\n\u001b[0;32m    266\u001b[0m \u001b[1;33m\u001b[0m\u001b[0m\n\u001b[0;32m    267\u001b[0m     \u001b[1;32mdef\u001b[0m \u001b[0m_read_status\u001b[0m\u001b[1;33m(\u001b[0m\u001b[0mself\u001b[0m\u001b[1;33m)\u001b[0m\u001b[1;33m:\u001b[0m\u001b[1;33m\u001b[0m\u001b[1;33m\u001b[0m\u001b[0m\n\u001b[1;32m--> 268\u001b[1;33m         \u001b[0mline\u001b[0m \u001b[1;33m=\u001b[0m \u001b[0mstr\u001b[0m\u001b[1;33m(\u001b[0m\u001b[0mself\u001b[0m\u001b[1;33m.\u001b[0m\u001b[0mfp\u001b[0m\u001b[1;33m.\u001b[0m\u001b[0mreadline\u001b[0m\u001b[1;33m(\u001b[0m\u001b[0m_MAXLINE\u001b[0m \u001b[1;33m+\u001b[0m \u001b[1;36m1\u001b[0m\u001b[1;33m)\u001b[0m\u001b[1;33m,\u001b[0m \u001b[1;34m\"iso-8859-1\"\u001b[0m\u001b[1;33m)\u001b[0m\u001b[1;33m\u001b[0m\u001b[1;33m\u001b[0m\u001b[0m\n\u001b[0m\u001b[0;32m    269\u001b[0m         \u001b[1;32mif\u001b[0m \u001b[0mlen\u001b[0m\u001b[1;33m(\u001b[0m\u001b[0mline\u001b[0m\u001b[1;33m)\u001b[0m \u001b[1;33m>\u001b[0m \u001b[0m_MAXLINE\u001b[0m\u001b[1;33m:\u001b[0m\u001b[1;33m\u001b[0m\u001b[1;33m\u001b[0m\u001b[0m\n\u001b[0;32m    270\u001b[0m             \u001b[1;32mraise\u001b[0m \u001b[0mLineTooLong\u001b[0m\u001b[1;33m(\u001b[0m\u001b[1;34m\"status line\"\u001b[0m\u001b[1;33m)\u001b[0m\u001b[1;33m\u001b[0m\u001b[1;33m\u001b[0m\u001b[0m\n",
      "\u001b[1;32m~\\Anaconda3\\lib\\socket.py\u001b[0m in \u001b[0;36mreadinto\u001b[1;34m(self, b)\u001b[0m\n\u001b[0;32m    667\u001b[0m         \u001b[1;32mwhile\u001b[0m \u001b[1;32mTrue\u001b[0m\u001b[1;33m:\u001b[0m\u001b[1;33m\u001b[0m\u001b[1;33m\u001b[0m\u001b[0m\n\u001b[0;32m    668\u001b[0m             \u001b[1;32mtry\u001b[0m\u001b[1;33m:\u001b[0m\u001b[1;33m\u001b[0m\u001b[1;33m\u001b[0m\u001b[0m\n\u001b[1;32m--> 669\u001b[1;33m                 \u001b[1;32mreturn\u001b[0m \u001b[0mself\u001b[0m\u001b[1;33m.\u001b[0m\u001b[0m_sock\u001b[0m\u001b[1;33m.\u001b[0m\u001b[0mrecv_into\u001b[0m\u001b[1;33m(\u001b[0m\u001b[0mb\u001b[0m\u001b[1;33m)\u001b[0m\u001b[1;33m\u001b[0m\u001b[1;33m\u001b[0m\u001b[0m\n\u001b[0m\u001b[0;32m    670\u001b[0m             \u001b[1;32mexcept\u001b[0m \u001b[0mtimeout\u001b[0m\u001b[1;33m:\u001b[0m\u001b[1;33m\u001b[0m\u001b[1;33m\u001b[0m\u001b[0m\n\u001b[0;32m    671\u001b[0m                 \u001b[0mself\u001b[0m\u001b[1;33m.\u001b[0m\u001b[0m_timeout_occurred\u001b[0m \u001b[1;33m=\u001b[0m \u001b[1;32mTrue\u001b[0m\u001b[1;33m\u001b[0m\u001b[1;33m\u001b[0m\u001b[0m\n",
      "\u001b[1;32m~\\Anaconda3\\lib\\ssl.py\u001b[0m in \u001b[0;36mrecv_into\u001b[1;34m(self, buffer, nbytes, flags)\u001b[0m\n\u001b[0;32m   1239\u001b[0m                   \u001b[1;34m\"non-zero flags not allowed in calls to recv_into() on %s\"\u001b[0m \u001b[1;33m%\u001b[0m\u001b[1;33m\u001b[0m\u001b[1;33m\u001b[0m\u001b[0m\n\u001b[0;32m   1240\u001b[0m                   self.__class__)\n\u001b[1;32m-> 1241\u001b[1;33m             \u001b[1;32mreturn\u001b[0m \u001b[0mself\u001b[0m\u001b[1;33m.\u001b[0m\u001b[0mread\u001b[0m\u001b[1;33m(\u001b[0m\u001b[0mnbytes\u001b[0m\u001b[1;33m,\u001b[0m \u001b[0mbuffer\u001b[0m\u001b[1;33m)\u001b[0m\u001b[1;33m\u001b[0m\u001b[1;33m\u001b[0m\u001b[0m\n\u001b[0m\u001b[0;32m   1242\u001b[0m         \u001b[1;32melse\u001b[0m\u001b[1;33m:\u001b[0m\u001b[1;33m\u001b[0m\u001b[1;33m\u001b[0m\u001b[0m\n\u001b[0;32m   1243\u001b[0m             \u001b[1;32mreturn\u001b[0m \u001b[0msuper\u001b[0m\u001b[1;33m(\u001b[0m\u001b[1;33m)\u001b[0m\u001b[1;33m.\u001b[0m\u001b[0mrecv_into\u001b[0m\u001b[1;33m(\u001b[0m\u001b[0mbuffer\u001b[0m\u001b[1;33m,\u001b[0m \u001b[0mnbytes\u001b[0m\u001b[1;33m,\u001b[0m \u001b[0mflags\u001b[0m\u001b[1;33m)\u001b[0m\u001b[1;33m\u001b[0m\u001b[1;33m\u001b[0m\u001b[0m\n",
      "\u001b[1;32m~\\Anaconda3\\lib\\ssl.py\u001b[0m in \u001b[0;36mread\u001b[1;34m(self, len, buffer)\u001b[0m\n\u001b[0;32m   1097\u001b[0m         \u001b[1;32mtry\u001b[0m\u001b[1;33m:\u001b[0m\u001b[1;33m\u001b[0m\u001b[1;33m\u001b[0m\u001b[0m\n\u001b[0;32m   1098\u001b[0m             \u001b[1;32mif\u001b[0m \u001b[0mbuffer\u001b[0m \u001b[1;32mis\u001b[0m \u001b[1;32mnot\u001b[0m \u001b[1;32mNone\u001b[0m\u001b[1;33m:\u001b[0m\u001b[1;33m\u001b[0m\u001b[1;33m\u001b[0m\u001b[0m\n\u001b[1;32m-> 1099\u001b[1;33m                 \u001b[1;32mreturn\u001b[0m \u001b[0mself\u001b[0m\u001b[1;33m.\u001b[0m\u001b[0m_sslobj\u001b[0m\u001b[1;33m.\u001b[0m\u001b[0mread\u001b[0m\u001b[1;33m(\u001b[0m\u001b[0mlen\u001b[0m\u001b[1;33m,\u001b[0m \u001b[0mbuffer\u001b[0m\u001b[1;33m)\u001b[0m\u001b[1;33m\u001b[0m\u001b[1;33m\u001b[0m\u001b[0m\n\u001b[0m\u001b[0;32m   1100\u001b[0m             \u001b[1;32melse\u001b[0m\u001b[1;33m:\u001b[0m\u001b[1;33m\u001b[0m\u001b[1;33m\u001b[0m\u001b[0m\n\u001b[0;32m   1101\u001b[0m                 \u001b[1;32mreturn\u001b[0m \u001b[0mself\u001b[0m\u001b[1;33m.\u001b[0m\u001b[0m_sslobj\u001b[0m\u001b[1;33m.\u001b[0m\u001b[0mread\u001b[0m\u001b[1;33m(\u001b[0m\u001b[0mlen\u001b[0m\u001b[1;33m)\u001b[0m\u001b[1;33m\u001b[0m\u001b[1;33m\u001b[0m\u001b[0m\n",
      "\u001b[1;31mKeyboardInterrupt\u001b[0m: "
     ]
    }
   ],
   "source": [
    "with os.scandir('./ttttt/') as it:\n",
    "    for entry in it:\n",
    "        if entry.name.endswith(\".csv\") and entry.is_file():\n",
    "            print(entry.name, entry.path)\n",
    "            id = entry.name.split('_')[0]\n",
    "            df = pd.read_csv(entry.path, index_col=\"date\")\n",
    "            df.insert(11, \"外資今日\", 0) \n",
    "            df.insert(12, \"投信今日\", 0) \n",
    "            df.insert(13, \"自營商今日\", 0) \n",
    "            df.insert(14, \"單日合計\", 0) \n",
    "            df.insert(15, \"外資持有\", 0) \n",
    "            df.insert(16, \"投信持有\", 0)\n",
    "            df.insert(17, \"自營商持有\", 0)\n",
    "            #print(df.index[0],df.index[-1])\n",
    "            s = df.index[0]\n",
    "            e = df.index[-1]\n",
    "            print(s)\n",
    "            print(e)\n",
    "            r = requests.get('https://concords.moneydj.com/z/zc/zcl/zcl.djhtm?a='+id+'&c='+s+'&d='+e)\n",
    "            #r = requests.get('https://concords.moneydj.com/z/zc/zcl/zcl.djhtm?a='+id+'&c='+s+'&d='+e)\n",
    "            soup = BeautifulSoup(r.text, 'html.parser')\n",
    "            data = soup.find_all(\"td\", class_ = [\"t3n0\",\"t3r1\",\"t3n1\"])\n",
    "#             print('data[i+1]', data[i])\n",
    "#             print('data[i+5]', data[i+5])\n",
    "#             print('data[i+6]', data[i+6])\n",
    "#             print('data[i+12]', data[i+12])\n",
    "#             print('data[i+13]', data[i+13])\n",
    "#             print('data[i+14]', data[i+14])\n",
    "#             print(data[1])\n",
    "#             print(data[2])\n",
    "#             print(data[3])\n",
    "#             print(data[4])\n",
    "#             print(data[5])\n",
    "#             print(data[6])\n",
    "#             print(data[7])\n",
    "#             print(data[8])\n",
    "#             print(data[12])\n",
    "\n",
    "            for i in range(0,int(len(data)-10),11):\n",
    "                dd = data[i+1].getText()\n",
    "                #print('dd', dd)\n",
    "                date2 = transform_date(dd)\n",
    "                #print('dd2', dd)\n",
    "                #print('dddd', date2)\n",
    "                try:\n",
    "                    if(df.loc[date2,\"start\"]>1):\n",
    "                        df.loc[date2,\"外資今日\"] = data[i+2].getText()\n",
    "                        df.loc[date2,\"投信今日\"] = data[i+3].getText()\n",
    "                        df.loc[date2,\"自營商今日\"] = data[i+4].getText()\n",
    "                        df.loc[date2,\"單日合計\"] = data[i+5].getText()\n",
    "                        df.loc[date2,\"外資持有\"] = data[i+6].getText()\n",
    "                        df.loc[date2,\"投信持有\"] = data[i+7].getText()\n",
    "                        df.loc[date2,\"自營商持有\"] = data[i+8].getText()\n",
    "                except:\n",
    "                    print(date2)\n",
    "\n",
    "            df.to_csv(entry.path,encoding='utf_8_sig')\n",
    "            time.sleep(1)"
   ]
  },
  {
   "cell_type": "markdown",
   "metadata": {},
   "source": [
    "## 算累積張數"
   ]
  },
  {
   "cell_type": "code",
   "execution_count": 155,
   "metadata": {},
   "outputs": [
    {
     "data": {
      "text/plain": [
       "[['統一-竹南', '1800'],\n",
       " ['日盛證券', '1503'],\n",
       " ['美商高盛', '912'],\n",
       " ['(牛牛牛)亞證券', '600'],\n",
       " ['瑞士信貸', '447'],\n",
       " ['第一金', '391'],\n",
       " ['群益金鼎', '376'],\n",
       " ['摩根大通', '345'],\n",
       " ['台中銀', '161'],\n",
       " ['新光-新竹', '125'],\n",
       " ['臺銀', '122'],\n",
       " ['合庫證券', '112'],\n",
       " ['新加坡商瑞銀', '105'],\n",
       " ['國票-敦北法人', '104'],\n",
       " ['統一-內湖', '92'],\n",
       " ['大和國泰', '-3808'],\n",
       " ['美林', '-3487'],\n",
       " ['富邦證券', '-602'],\n",
       " ['港商法國興業', '-468'],\n",
       " ['花旗環球', '-354'],\n",
       " ['群益金鼎-板橋', '-299'],\n",
       " ['兆豐-員林', '-240'],\n",
       " ['凱基', '-224'],\n",
       " ['台灣匯立證券', '-223'],\n",
       " ['兆豐證券', '-198'],\n",
       " ['國泰證券', '-178'],\n",
       " ['港商野村', '-163'],\n",
       " ['台灣摩根士丹利', '-162'],\n",
       " ['元富-信義', '-148'],\n",
       " ['元大-新莊', '-131']]"
      ]
     },
     "execution_count": 155,
     "metadata": {},
     "output_type": "execute_result"
    }
   ],
   "source": [
    "total = {}\n",
    "result=[]\n",
    "result_2= []\n",
    "date = []\n",
    "r = requests.get('https://concords.moneydj.com/z/zc/zco/zco.djhtm?a=1101&e=2020-12-17&f=2020-12-17')\n",
    "soup = BeautifulSoup(r.text, 'html.parser')\n",
    "data = soup.find_all(\"td\", class_ = [\"t4t1\",\"t3n1\"])\n",
    "for i in range(0,int(len(data)-8),10):\n",
    "#     key = data[i].getText()\n",
    "#     value = data[i+3].getText().replace(',', '')\n",
    "#     key_2 = data[i+5].getText()\n",
    "#     value_2 = '-'+data[i+8].getText().replace(',', '')\n",
    "#     if key in total:\n",
    "#         total[key] += int(value)\n",
    "#     else:\n",
    "#         total[key] = int(value)\n",
    "#     if key_2 in total:\n",
    "#         total[key_2] += int(value_2)\n",
    "#     else:\n",
    "#         total[key_2] = int(value_2)        \n",
    "    result.append([data[i].getText(),data[i+3].getText().replace(',', '')])\n",
    "    result_2.append([data[i+5].getText(),'-'+data[i+8].getText().replace(',', '')])\n",
    "\n",
    "result+result_2\n",
    "#result\n",
    "\n",
    "# if 'key1' in dict:\n",
    "#     print(\"blah\")\n",
    "# else:\n",
    "#     print(\"boo\")\n",
    "\n",
    "# new_df = pd.DataFrame(result,index=date)\n",
    "# new_df"
   ]
  },
  {
   "cell_type": "code",
   "execution_count": 228,
   "metadata": {},
   "outputs": [
    {
     "name": "stdout",
     "output_type": "stream",
     "text": [
      "2022/05/11\n",
      "2022/05/12\n",
      "2022/05/13\n"
     ]
    }
   ],
   "source": [
    "df = pd.read_csv('./券商庫存/1101_test.csv', index_col=\"date\")\n",
    "total = {}\n",
    "result=[]\n",
    "date = []\n",
    "for day in df.index:\n",
    "    print(day)\n",
    "    r = requests.get('https://concords.moneydj.com/z/zc/zco/zco.djhtm?a=1101&e='+day+'&f='+day)\n",
    "    soup = BeautifulSoup(r.text, 'html.parser')\n",
    "    data = soup.find_all(\"td\", class_ = [\"t4t1\",\"t3n1\"])\n",
    "    tmp=[]\n",
    "    tmp2=[]\n",
    "    for i in range(0,int(len(data)-8),10):\n",
    "        key = data[i].getText()\n",
    "        value = data[i+3].getText().replace(',', '')\n",
    "        key_2 = data[i+5].getText()\n",
    "        value_2 = '-'+data[i+8].getText().replace(',', '')\n",
    "        if key in total:\n",
    "            total[key] += int(value)  \n",
    "        else:\n",
    "            total[key] = int(value)\n",
    "        if key_2 in total:\n",
    "            total[key_2] += int(value_2)\n",
    "        else:\n",
    "            total[key_2] = int(value_2)\n",
    "        tmp += data[i].getText(),data[i+3].getText().replace(',', ''),data[i+4].getText(), total[key]\n",
    "        tmp2 += data[i+5].getText(),'-'+data[i+8].getText().replace(',', ''),data[i+9].getText(), total[key_2]\n",
    "    result.extend([[day]+tmp+tmp2])\n",
    "#result = itertools_chain(result)\n",
    "new_df = pd.DataFrame(result)\n",
    "df.reset_index(drop=True, inplace=True)\n",
    "new_df.reset_index(drop=True, inplace=True)\n",
    "\n",
    "df3 = pd.concat([df, new_df], axis=1)\n",
    "df3.to_csv(\"./test/1101_test3.csv\",encoding='utf_8_sig')"
   ]
  },
  {
   "cell_type": "markdown",
   "metadata": {},
   "source": [
    "## 5. 券商主力買賣"
   ]
  },
  {
   "cell_type": "code",
   "execution_count": 51,
   "metadata": {},
   "outputs": [
    {
     "name": "stderr",
     "output_type": "stream",
     "text": [
      "\r",
      "  0%|                                                                                          | 0/330 [00:00<?, ?it/s]"
     ]
    },
    {
     "name": "stdout",
     "output_type": "stream",
     "text": [
      "1477_聚陽.csv ./融資融券/1477_聚陽.csv\n"
     ]
    },
    {
     "name": "stderr",
     "output_type": "stream",
     "text": [
      "100%|████████████████████████████████████████████████████████████████████████████████| 330/330 [03:33<00:00,  1.55it/s]\n",
      "  0%|                                                                                          | 0/330 [00:00<?, ?it/s]"
     ]
    },
    {
     "name": "stdout",
     "output_type": "stream",
     "text": [
      "1605_華新.csv ./融資融券/1605_華新.csv\n"
     ]
    },
    {
     "name": "stderr",
     "output_type": "stream",
     "text": [
      "100%|████████████████████████████████████████████████████████████████████████████████| 330/330 [03:48<00:00,  1.44it/s]\n",
      "  0%|                                                                                          | 0/330 [00:00<?, ?it/s]"
     ]
    },
    {
     "name": "stdout",
     "output_type": "stream",
     "text": [
      "1708_東鹼.csv ./融資融券/1708_東鹼.csv\n"
     ]
    },
    {
     "name": "stderr",
     "output_type": "stream",
     "text": [
      "100%|████████████████████████████████████████████████████████████████████████████████| 330/330 [04:09<00:00,  1.32it/s]\n",
      "  0%|                                                                                          | 0/330 [00:00<?, ?it/s]"
     ]
    },
    {
     "name": "stdout",
     "output_type": "stream",
     "text": [
      "2606_裕民.csv ./融資融券/2606_裕民.csv\n"
     ]
    },
    {
     "name": "stderr",
     "output_type": "stream",
     "text": [
      "100%|████████████████████████████████████████████████████████████████████████████████| 330/330 [03:49<00:00,  1.44it/s]\n",
      "  0%|                                                                                          | 0/330 [00:00<?, ?it/s]"
     ]
    },
    {
     "name": "stdout",
     "output_type": "stream",
     "text": [
      "2637_慧洋-KY.csv ./融資融券/2637_慧洋-KY.csv\n"
     ]
    },
    {
     "name": "stderr",
     "output_type": "stream",
     "text": [
      "100%|████████████████████████████████████████████████████████████████████████████████| 330/330 [03:13<00:00,  1.70it/s]\n",
      "  0%|                                                                                          | 0/330 [00:00<?, ?it/s]"
     ]
    },
    {
     "name": "stdout",
     "output_type": "stream",
     "text": [
      "3006_晶豪科.csv ./融資融券/3006_晶豪科.csv\n"
     ]
    },
    {
     "name": "stderr",
     "output_type": "stream",
     "text": [
      "100%|████████████████████████████████████████████████████████████████████████████████| 330/330 [03:47<00:00,  1.45it/s]\n",
      "  0%|                                                                                          | 0/330 [00:00<?, ?it/s]"
     ]
    },
    {
     "name": "stdout",
     "output_type": "stream",
     "text": [
      "3034_聯詠.csv ./融資融券/3034_聯詠.csv\n"
     ]
    },
    {
     "name": "stderr",
     "output_type": "stream",
     "text": [
      "100%|████████████████████████████████████████████████████████████████████████████████| 330/330 [03:48<00:00,  1.44it/s]\n",
      "  0%|                                                                                          | 0/330 [00:00<?, ?it/s]"
     ]
    },
    {
     "name": "stdout",
     "output_type": "stream",
     "text": [
      "3035_智原.csv ./融資融券/3035_智原.csv\n"
     ]
    },
    {
     "name": "stderr",
     "output_type": "stream",
     "text": [
      "100%|████████████████████████████████████████████████████████████████████████████████| 330/330 [03:09<00:00,  1.74it/s]\n",
      "  0%|                                                                                          | 0/330 [00:00<?, ?it/s]"
     ]
    },
    {
     "name": "stdout",
     "output_type": "stream",
     "text": [
      "3105_穩懋.csv ./融資融券/3105_穩懋.csv\n"
     ]
    },
    {
     "name": "stderr",
     "output_type": "stream",
     "text": [
      "100%|████████████████████████████████████████████████████████████████████████████████| 330/330 [04:29<00:00,  1.22it/s]\n",
      "  0%|                                                                                          | 0/330 [00:00<?, ?it/s]"
     ]
    },
    {
     "name": "stdout",
     "output_type": "stream",
     "text": [
      "3141_晶宏.csv ./融資融券/3141_晶宏.csv\n"
     ]
    },
    {
     "name": "stderr",
     "output_type": "stream",
     "text": [
      "100%|████████████████████████████████████████████████████████████████████████████████| 330/330 [04:32<00:00,  1.21it/s]\n",
      "  0%|                                                                                          | 0/330 [00:00<?, ?it/s]"
     ]
    },
    {
     "name": "stdout",
     "output_type": "stream",
     "text": [
      "3406_玉晶光.csv ./融資融券/3406_玉晶光.csv\n"
     ]
    },
    {
     "name": "stderr",
     "output_type": "stream",
     "text": [
      "100%|████████████████████████████████████████████████████████████████████████████████| 330/330 [03:51<00:00,  1.42it/s]\n",
      "  0%|                                                                                          | 0/330 [00:00<?, ?it/s]"
     ]
    },
    {
     "name": "stdout",
     "output_type": "stream",
     "text": [
      "3443_創意.csv ./融資融券/3443_創意.csv\n"
     ]
    },
    {
     "name": "stderr",
     "output_type": "stream",
     "text": [
      "100%|████████████████████████████████████████████████████████████████████████████████| 330/330 [03:37<00:00,  1.52it/s]\n",
      "  0%|                                                                                          | 0/330 [00:00<?, ?it/s]"
     ]
    },
    {
     "name": "stdout",
     "output_type": "stream",
     "text": [
      "3675_德微.csv ./融資融券/3675_德微.csv\n"
     ]
    },
    {
     "name": "stderr",
     "output_type": "stream",
     "text": [
      "100%|████████████████████████████████████████████████████████████████████████████████| 330/330 [02:48<00:00,  1.96it/s]\n",
      "  0%|                                                                                          | 0/330 [00:00<?, ?it/s]"
     ]
    },
    {
     "name": "stdout",
     "output_type": "stream",
     "text": [
      "3680_家登.csv ./融資融券/3680_家登.csv\n"
     ]
    },
    {
     "name": "stderr",
     "output_type": "stream",
     "text": [
      "100%|████████████████████████████████████████████████████████████████████████████████| 330/330 [04:05<00:00,  1.35it/s]\n",
      "  0%|                                                                                          | 0/330 [00:00<?, ?it/s]"
     ]
    },
    {
     "name": "stdout",
     "output_type": "stream",
     "text": [
      "3707_漢磊.csv ./融資融券/3707_漢磊.csv\n"
     ]
    },
    {
     "name": "stderr",
     "output_type": "stream",
     "text": [
      "100%|████████████████████████████████████████████████████████████████████████████████| 330/330 [03:26<00:00,  1.60it/s]\n",
      "  0%|                                                                                          | 0/330 [00:00<?, ?it/s]"
     ]
    },
    {
     "name": "stdout",
     "output_type": "stream",
     "text": [
      "3708_上緯投控.csv ./融資融券/3708_上緯投控.csv\n"
     ]
    },
    {
     "name": "stderr",
     "output_type": "stream",
     "text": [
      "100%|████████████████████████████████████████████████████████████████████████████████| 330/330 [03:58<00:00,  1.39it/s]\n",
      "  0%|                                                                                          | 0/330 [00:00<?, ?it/s]"
     ]
    },
    {
     "name": "stdout",
     "output_type": "stream",
     "text": [
      "5243_乙盛-KY.csv ./融資融券/5243_乙盛-KY.csv\n"
     ]
    },
    {
     "name": "stderr",
     "output_type": "stream",
     "text": [
      "100%|████████████████████████████████████████████████████████████████████████████████| 330/330 [04:01<00:00,  1.37it/s]\n",
      "  0%|                                                                                          | 0/330 [00:00<?, ?it/s]"
     ]
    },
    {
     "name": "stdout",
     "output_type": "stream",
     "text": [
      "5483_中美晶.csv ./融資融券/5483_中美晶.csv\n"
     ]
    },
    {
     "name": "stderr",
     "output_type": "stream",
     "text": [
      "100%|████████████████████████████████████████████████████████████████████████████████| 330/330 [03:57<00:00,  1.39it/s]\n",
      "  0%|                                                                                          | 0/330 [00:00<?, ?it/s]"
     ]
    },
    {
     "name": "stdout",
     "output_type": "stream",
     "text": [
      "6104_創惟.csv ./融資融券/6104_創惟.csv\n"
     ]
    },
    {
     "name": "stderr",
     "output_type": "stream",
     "text": [
      "100%|████████████████████████████████████████████████████████████████████████████████| 330/330 [03:13<00:00,  1.70it/s]\n",
      "  0%|                                                                                          | 0/330 [00:00<?, ?it/s]"
     ]
    },
    {
     "name": "stdout",
     "output_type": "stream",
     "text": [
      "6138_茂達.csv ./融資融券/6138_茂達.csv\n"
     ]
    },
    {
     "name": "stderr",
     "output_type": "stream",
     "text": [
      "100%|████████████████████████████████████████████████████████████████████████████████| 330/330 [03:16<00:00,  1.68it/s]\n",
      "  0%|                                                                                          | 0/330 [00:00<?, ?it/s]"
     ]
    },
    {
     "name": "stdout",
     "output_type": "stream",
     "text": [
      "6187_萬潤.csv ./融資融券/6187_萬潤.csv\n"
     ]
    },
    {
     "name": "stderr",
     "output_type": "stream",
     "text": [
      "100%|████████████████████████████████████████████████████████████████████████████████| 330/330 [02:52<00:00,  1.91it/s]\n",
      "  0%|                                                                                          | 0/330 [00:00<?, ?it/s]"
     ]
    },
    {
     "name": "stdout",
     "output_type": "stream",
     "text": [
      "8028_昇陽半導體.csv ./融資融券/8028_昇陽半導體.csv\n"
     ]
    },
    {
     "name": "stderr",
     "output_type": "stream",
     "text": [
      "100%|████████████████████████████████████████████████████████████████████████████████| 330/330 [03:36<00:00,  1.52it/s]\n",
      "  0%|                                                                                          | 0/330 [00:00<?, ?it/s]"
     ]
    },
    {
     "name": "stdout",
     "output_type": "stream",
     "text": [
      "8046_南電.csv ./融資融券/8046_南電.csv\n"
     ]
    },
    {
     "name": "stderr",
     "output_type": "stream",
     "text": [
      "100%|████████████████████████████████████████████████████████████████████████████████| 330/330 [03:04<00:00,  1.79it/s]\n",
      "  0%|                                                                                          | 0/330 [00:00<?, ?it/s]"
     ]
    },
    {
     "name": "stdout",
     "output_type": "stream",
     "text": [
      "8155_博智.csv ./融資融券/8155_博智.csv\n"
     ]
    },
    {
     "name": "stderr",
     "output_type": "stream",
     "text": [
      "100%|████████████████████████████████████████████████████████████████████████████████| 330/330 [03:07<00:00,  1.76it/s]\n",
      "  0%|                                                                                          | 0/330 [00:00<?, ?it/s]"
     ]
    },
    {
     "name": "stdout",
     "output_type": "stream",
     "text": [
      "8171_天宇.csv ./融資融券/8171_天宇.csv\n"
     ]
    },
    {
     "name": "stderr",
     "output_type": "stream",
     "text": [
      "100%|████████████████████████████████████████████████████████████████████████████████| 330/330 [03:33<00:00,  1.55it/s]\n",
      "  0%|                                                                                          | 0/330 [00:00<?, ?it/s]"
     ]
    },
    {
     "name": "stdout",
     "output_type": "stream",
     "text": [
      "8183_精星.csv ./融資融券/8183_精星.csv\n"
     ]
    },
    {
     "name": "stderr",
     "output_type": "stream",
     "text": [
      "100%|████████████████████████████████████████████████████████████████████████████████| 330/330 [03:08<00:00,  1.75it/s]\n",
      "  0%|                                                                                          | 0/330 [00:00<?, ?it/s]"
     ]
    },
    {
     "name": "stdout",
     "output_type": "stream",
     "text": [
      "8299_群聯.csv ./融資融券/8299_群聯.csv\n"
     ]
    },
    {
     "name": "stderr",
     "output_type": "stream",
     "text": [
      "100%|████████████████████████████████████████████████████████████████████████████████| 330/330 [03:50<00:00,  1.43it/s]\n",
      "  0%|                                                                                          | 0/330 [00:00<?, ?it/s]"
     ]
    },
    {
     "name": "stdout",
     "output_type": "stream",
     "text": [
      "8478_東哥遊艇.csv ./融資融券/8478_東哥遊艇.csv\n"
     ]
    },
    {
     "name": "stderr",
     "output_type": "stream",
     "text": [
      "100%|████████████████████████████████████████████████████████████████████████████████| 330/330 [03:41<00:00,  1.49it/s]\n",
      "  0%|                                                                                          | 0/330 [00:00<?, ?it/s]"
     ]
    },
    {
     "name": "stdout",
     "output_type": "stream",
     "text": [
      "8928_鉅明.csv ./融資融券/8928_鉅明.csv\n"
     ]
    },
    {
     "name": "stderr",
     "output_type": "stream",
     "text": [
      "100%|████████████████████████████████████████████████████████████████████████████████| 330/330 [03:43<00:00,  1.48it/s]\n",
      "  0%|                                                                                          | 0/330 [00:00<?, ?it/s]"
     ]
    },
    {
     "name": "stdout",
     "output_type": "stream",
     "text": [
      "8938_明安.csv ./融資融券/8938_明安.csv\n"
     ]
    },
    {
     "name": "stderr",
     "output_type": "stream",
     "text": [
      "100%|████████████████████████████████████████████████████████████████████████████████| 330/330 [03:04<00:00,  1.79it/s]\n",
      "  0%|                                                                                          | 0/330 [00:00<?, ?it/s]"
     ]
    },
    {
     "name": "stdout",
     "output_type": "stream",
     "text": [
      "8996_高力.csv ./融資融券/8996_高力.csv\n"
     ]
    },
    {
     "name": "stderr",
     "output_type": "stream",
     "text": [
      "100%|████████████████████████████████████████████████████████████████████████████████| 330/330 [03:40<00:00,  1.50it/s]\n",
      "  0%|                                                                                          | 0/330 [00:00<?, ?it/s]"
     ]
    },
    {
     "name": "stdout",
     "output_type": "stream",
     "text": [
      "9958_世紀鋼.csv ./融資融券/9958_世紀鋼.csv\n"
     ]
    },
    {
     "name": "stderr",
     "output_type": "stream",
     "text": [
      "100%|████████████████████████████████████████████████████████████████████████████████| 330/330 [03:32<00:00,  1.55it/s]\n"
     ]
    }
   ],
   "source": [
    "with os.scandir('./融資融券/') as it:\n",
    "    for entry in it:\n",
    "        if entry.name.endswith(\".csv\") and entry.is_file():\n",
    "            print(entry.name, entry.path)\n",
    "            id = entry.name.split('_')[0]\n",
    "            df = pd.read_csv(entry.path, index_col=\"date\")\n",
    "            total = {}\n",
    "            result=[]\n",
    "            date = []\n",
    "            for day in tqdm(df.index):\n",
    "                #print(day)\n",
    "                r = requests.get('https://concords.moneydj.com/z/zc/zco/zco.djhtm?a='+id+'&e='+day+'&f='+day)\n",
    "                soup = BeautifulSoup(r.text, 'html.parser')\n",
    "                data = soup.find_all(\"td\", class_ = [\"t4t1\",\"t3n1\"])\n",
    "                tmp=[]\n",
    "                tmp2=[]\n",
    "                for i in range(0,int(len(data)-8),10):\n",
    "                    try:\n",
    "                        key = data[i].getText()\n",
    "                        value = data[i+3].getText().replace(',', '')\n",
    "                        key_2 = data[i+5].getText()\n",
    "                        value_2 = '-'+data[i+8].getText().replace(',', '')\n",
    "                        if key in total:\n",
    "                            total[key] += int(value)  \n",
    "                        else:\n",
    "                            total[key] = int(value)\n",
    "                        if key_2 in total:\n",
    "                            total[key_2] += int(value_2)\n",
    "                        else:\n",
    "                            #print(key_2)\n",
    "                            total[key_2] = int(value_2)\n",
    "                        tmp += data[i].getText(),data[i+3].getText().replace(',', ''),data[i+4].getText(), total[key]\n",
    "                        #print(tmp)\n",
    "                        tmp2 += data[i+5].getText(),'-'+data[i+8].getText().replace(',', ''),data[i+9].getText(), total[key_2]\n",
    "                    except:\n",
    "                        continue\n",
    "                    \n",
    "                result.extend([[day]+tmp+tmp2])\n",
    "            #result = itertools_chain(result)\n",
    "            new_df = pd.DataFrame(result)\n",
    "            df.reset_index(drop=True, inplace=True)\n",
    "            new_df.reset_index(drop=True, inplace=True)\n",
    "\n",
    "            df3 = pd.concat([df, new_df], axis=1)\n",
    "            #display(df3)\n",
    "            df3.to_csv('./主力買賣/'+entry.name,encoding='utf_8_sig')"
   ]
  },
  {
   "cell_type": "markdown",
   "metadata": {},
   "source": [
    "## 6. 券商張數累積排序"
   ]
  },
  {
   "cell_type": "code",
   "execution_count": 25,
   "metadata": {},
   "outputs": [
    {
     "name": "stderr",
     "output_type": "stream",
     "text": [
      "\r",
      "  0%|                                                                                          | 0/330 [00:00<?, ?it/s]"
     ]
    },
    {
     "name": "stdout",
     "output_type": "stream",
     "text": [
      "1477_聚陽.csv ./融資融券/1477_聚陽.csv\n"
     ]
    },
    {
     "name": "stderr",
     "output_type": "stream",
     "text": [
      "100%|████████████████████████████████████████████████████████████████████████████████| 330/330 [02:07<00:00,  2.59it/s]\n",
      "  0%|                                                                                          | 0/330 [00:00<?, ?it/s]"
     ]
    },
    {
     "name": "stdout",
     "output_type": "stream",
     "text": [
      "8046_南電.csv ./融資融券/8046_南電.csv\n"
     ]
    },
    {
     "name": "stderr",
     "output_type": "stream",
     "text": [
      "100%|████████████████████████████████████████████████████████████████████████████████| 330/330 [02:12<00:00,  2.49it/s]\n"
     ]
    }
   ],
   "source": [
    "with os.scandir('./融資融券/') as it:\n",
    "    for entry in it:\n",
    "        if entry.name.endswith(\".csv\") and entry.is_file():\n",
    "            print(entry.name, entry.path)\n",
    "            id = entry.name.split('_')[0]\n",
    "            df = pd.read_csv(entry.path, index_col=\"date\")\n",
    "            total = {}\n",
    "            result=[]\n",
    "            date = []\n",
    "            for day in tqdm(df.index):\n",
    "                #print(day)\n",
    "                r = requests.get('https://concords.moneydj.com/z/zc/zco/zco.djhtm?a='+id+'&e='+day+'&f='+day)\n",
    "                soup = BeautifulSoup(r.text, 'html.parser')\n",
    "                data = soup.find_all(\"td\", class_ = [\"t4t1\",\"t3n1\"])\n",
    "                tmp=[]\n",
    "                tmp2=[]\n",
    "                for i in range(0,int(len(data)-8),10):\n",
    "                    try:\n",
    "                        key = data[i].getText()\n",
    "                        value = data[i+3].getText().replace(',', '')\n",
    "                        key_2 = data[i+5].getText()\n",
    "                        value_2 = '-'+data[i+8].getText().replace(',', '')\n",
    "                        if key in total:\n",
    "                            total[key] += int(value)  \n",
    "                        else:\n",
    "                            total[key] = int(value)\n",
    "                        if key_2 in total:\n",
    "                            total[key_2] += int(value_2)\n",
    "                        else:\n",
    "                            #print(key_2)\n",
    "                            total[key_2] = int(value_2)\n",
    "                        \n",
    "                    except:\n",
    "                        continue\n",
    "                tmp3= sorted(total.items(), key=lambda x:x[1], reverse=True)\n",
    "                tmp4 = [item for sublist in tmp3 for item in sublist]\n",
    "                #print(tmp4)\n",
    "                result.extend([[day]+tmp4])\n",
    "                #print(result)\n",
    "            #result = itertools_chain(result)\n",
    "            new_df = pd.DataFrame(result)\n",
    "            #print(new_df)\n",
    "            df.reset_index(drop=True, inplace=True)\n",
    "            new_df.reset_index(drop=True, inplace=True)\n",
    "\n",
    "            df3 = pd.concat([df, new_df], axis=1)\n",
    "            #display(df3)\n",
    "            df3.to_csv('./累積主力買賣/'+entry.name,encoding='utf_8_sig')"
   ]
  },
  {
   "cell_type": "code",
   "execution_count": null,
   "metadata": {},
   "outputs": [],
   "source": []
  }
 ],
 "metadata": {
  "kernelspec": {
   "display_name": "Python 3",
   "language": "python",
   "name": "python3"
  },
  "language_info": {
   "codemirror_mode": {
    "name": "ipython",
    "version": 3
   },
   "file_extension": ".py",
   "mimetype": "text/x-python",
   "name": "python",
   "nbconvert_exporter": "python",
   "pygments_lexer": "ipython3",
   "version": "3.8.5"
  }
 },
 "nbformat": 4,
 "nbformat_minor": 4
}
